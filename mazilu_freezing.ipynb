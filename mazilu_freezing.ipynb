{
  "cells": [
    {
      "cell_type": "code",
      "source": [
        "from google.colab import drive\n",
        "drive.mount('/content/drive')"
      ],
      "metadata": {
        "colab": {
          "base_uri": "https://localhost:8080/"
        },
        "id": "dkbfngTc9Y4R",
        "outputId": "80715f4b-d4fb-47d3-b390-624d511b156e"
      },
      "id": "dkbfngTc9Y4R",
      "execution_count": 1,
      "outputs": [
        {
          "output_type": "stream",
          "name": "stdout",
          "text": [
            "Mounted at /content/drive\n"
          ]
        }
      ]
    },
    {
      "cell_type": "markdown",
      "id": "35d56de4",
      "metadata": {
        "id": "35d56de4"
      },
      "source": [
        "# Imports"
      ]
    },
    {
      "cell_type": "code",
      "execution_count": 2,
      "id": "9302d08e",
      "metadata": {
        "id": "9302d08e"
      },
      "outputs": [],
      "source": [
        "import pandas as pd\n",
        "import os\n",
        "import numpy as np\n",
        "from sklearn.ensemble import RandomForestClassifier\n",
        "from sklearn.tree import DecisionTreeClassifier\n",
        "from sklearn.metrics import accuracy_score, precision_score, recall_score, f1_score, precision_recall_fscore_support\n",
        "from sklearn.model_selection import train_test_split\n",
        "from sklearn.model_selection import cross_val_score \n",
        "from sklearn.model_selection import GridSearchCV\n",
        "from sklearn.model_selection import StratifiedShuffleSplit, StratifiedKFold, RepeatedStratifiedKFold\n",
        "from sklearn.pipeline import Pipeline\n",
        "import xgboost as xgb\n",
        "import seaborn as sns \n",
        "import matplotlib.pyplot as plt\n",
        "import xgboost as xgb\n",
        "from sklearn.feature_selection import SelectKBest, chi2, f_classif, mutual_info_classif\n",
        "from scipy import stats\n",
        "from sklearn.metrics import confusion_matrix\n",
        "pd.options.mode.chained_assignment = None\n",
        "import imblearn\n",
        "import itertools\n",
        "from sklearn.metrics import f1_score, make_scorer"
      ]
    },
    {
      "cell_type": "markdown",
      "id": "09ad2330",
      "metadata": {
        "id": "09ad2330"
      },
      "source": [
        "# Utilities"
      ]
    },
    {
      "cell_type": "code",
      "execution_count": 3,
      "id": "bc3c6a2c",
      "metadata": {
        "id": "bc3c6a2c"
      },
      "outputs": [],
      "source": [
        "def f1_eval(y_pred, dtrain):\n",
        "    y_true = dtrain.get_label()\n",
        "    err = 1 - f1_score(y_true, np.where(y_pred > 0.5, 1, 0), zero_division=1)\n",
        "    return 'f1_err', err\n",
        "\n",
        "# Adds mean,std,var to each attribute with a rolling window of a given size\n",
        "def add_lookback(dataset, exclude ,seconds=1, jmp_size=1):\n",
        "    cols = list(set(dataset.columns) - set(exclude)) \n",
        "    if seconds == 0:\n",
        "        return dataset\n",
        "    window = seconds*1000\n",
        "    jmp_size = jmp_size*1000\n",
        "    min_time = dataset['time'].min()\n",
        "    max_time = dataset['time'].max()\n",
        "    new_cols = [x + f'_mean' for x in cols] + [x + f'_std' for x in cols] + [x + f'_var' for x in cols]\n",
        "    data = pd.DataFrame(columns=list(dataset.columns) + new_cols)\n",
        "    data[list(dataset.columns)] = dataset[list(dataset.columns)]\n",
        "    start = min_time\n",
        "    while start < max_time:\n",
        "        sub_df = dataset[cols][(dataset['time']>=start)&(dataset['time']<start+window)]\n",
        "        aggs = sub_df.agg(['mean','std','var']).reset_index()\n",
        "        aggs = aggs.fillna(aggs.mean())\n",
        "        inds = data.loc[(data['time']>=start)&(data['time']<start+window)].index\n",
        "        for index,row in aggs.iterrows():\n",
        "            for col in cols:\n",
        "                data.loc[inds, col+'_'+row['index']] = row[col]\n",
        "        start += window\n",
        "        \n",
        "    return data.fillna(data.mean())\n",
        "        \n",
        "\n",
        "    \n",
        "# Removes 2% and 98% outliers from the data\n",
        "def remove_outliers(df, col_names):\n",
        "    index = pd.Index([])\n",
        "    for col_name in col_names:\n",
        "        q_low = df[col_name].quantile(0.02)\n",
        "        q_hi  = df[col_name].quantile(0.98)\n",
        "        index = index.append(df[(df[col_name] >= q_hi) | (df[col_name] <= q_low)].index)\n",
        "    return df[~df.index.isin(index)]\n",
        "\n",
        "\n",
        "def plot_training_chart(results, metrics, train=False):\n",
        "    epochs = len(results['validation_0'][metrics[0]])\n",
        "    x_axis = range(0, epochs)\n",
        "    if train:\n",
        "        for metric in metrics:\n",
        "            fig, ax = plt.subplots()\n",
        "            ax.plot(x_axis, results['validation_0'][metric], label='Train')\n",
        "            ax.plot(x_axis, results['validation_1'][metric], label='Test')\n",
        "            ax.legend()\n",
        "            plt.ylabel(metric)\n",
        "            plt.title(f'XGBoost {metric}')\n",
        "            plt.show()\n",
        "    else:\n",
        "        for metric in metrics:\n",
        "            fig, ax = plt.subplots()\n",
        "            ax.plot(x_axis, results['validation_0'][metric], label='Test')\n",
        "            ax.legend()\n",
        "            plt.ylabel(metric)\n",
        "            plt.title(f'XGBoost {metric}')\n",
        "            plt.show()\n",
        "            \n",
        "            \n",
        "def draw_confusion_matrix(cf_matrix):\n",
        "  \n",
        "    df_cm = pd.DataFrame(cf_matrix, index = [i for i in \"01\"],\n",
        "                  columns = [i for i in \"01\"])\n",
        "    ax = plt.subplot()\n",
        "    sns.heatmap(df_cm, annot=True, fmt = \".1f\", ax=ax)\n",
        "    ax.set_xlabel('Predicted')\n",
        "    ax.set_ylabel('True')\n",
        "    TN = cf_matrix[0][0]\n",
        "    FP = cf_matrix[0][1]\n",
        "    TP = cf_matrix[1][1]\n",
        "    FN = cf_matrix[1][0]\n",
        "    print(f'True positive samples: {TP} (these are the FOG samples we classified FOG)')\n",
        "    print(f'False positive samples: {FP} (these are normal samples we classified as FOG)')\n",
        "    print(f'True negative samples: {TN} (These are the normal samples we classified as normal)')\n",
        "    print(f'False negative samples: {FN} (Thses are the FOG samples we classified as normal)')\n",
        "    \n",
        "def print_scores(y_test, y_pred):\n",
        "    print(f'Total accuracy is {accuracy_score(y_test, y_pred)}')\n",
        "    print(f'Percision score (tp / (tp + fp)) is {precision_score(y_test, y_pred, zero_division=1)}')\n",
        "    print(f'Recall score (tp / (tp + fn)) is {recall_score(y_test, y_pred, zero_division=1)}')\n",
        "    print(f'F1 score (2 * (precision * recall) / (precision + recall)) is {f1_score(y_test, y_pred, zero_division=1)}')\n",
        "    \n",
        "# Uses cross validation to find best weight for model (hyperparameter optimization)\n",
        "def find_best_weight(X_train, y_train):\n",
        "    number_of_FOG = y_train.value_counts()[1]\n",
        "    number_of_REG = y_train.value_counts().iloc[0]\n",
        "    weight = int(number_of_REG/number_of_FOG)\n",
        "    model = xgb.XGBClassifier(objective='binary:logistic', learning_rate = 0.1,\n",
        "                n_estimators = 20, nthread=8, booster='gbtree', tree_method='gpu_hist', gpu_id=0)\n",
        "    weights = range(int(weight/2), weight+2) \n",
        "    param_grid = dict(scale_pos_weight=weights)\n",
        "    # define evaluation procedure\n",
        "    cv = RepeatedStratifiedKFold(n_splits=2, n_repeats=1)\n",
        "    # define grid search=\n",
        "    grid = GridSearchCV(estimator=model, param_grid=param_grid, n_jobs=-1, cv=cv, scoring=make_scorer(f1_score, zero_division=1) , verbose=10)\n",
        "    # execute the grid search\n",
        "    grid_result = grid.fit(X_train, y_train)\n",
        "    # report the best configuration\n",
        "    print(\"Best: %f using %s\" % (grid_result.best_score_, grid_result.best_params_))\n",
        "    best_weight = grid_result.best_params_['scale_pos_weight']\n",
        "    return best_weight"
      ]
    },
    {
      "cell_type": "markdown",
      "id": "343141e5",
      "metadata": {
        "id": "343141e5"
      },
      "source": [
        "# Read and Clean Data"
      ]
    },
    {
      "cell_type": "markdown",
      "id": "c500efa0",
      "metadata": {
        "id": "c500efa0"
      },
      "source": [
        "Reading txt files as dataframes, adding headers"
      ]
    },
    {
      "cell_type": "code",
      "execution_count": 4,
      "id": "f20dbe23",
      "metadata": {
        "id": "f20dbe23"
      },
      "outputs": [],
      "source": [
        "dataframes = dict(zip(range(1,11), [list() for x in range(1,11)]))\n",
        "path = '/content/drive/MyDrive/Pesquisa SUPER/dataset'\n",
        "file_names = os.listdir(path)\n",
        "col_names = ['time', 'ank_hor_fwd', 'ank_vert', 'ank_hor_lat', 'leg_hor_fwd', 'leg_vert', 'leg_hor_lat', \n",
        "             'trunk_hor_fwd', 'trunk_vert', 'trunk_hor_lat', 'label']\n",
        "feature_col_names = col_names[1:10]\n",
        "\n",
        "for name in file_names:\n",
        "    splits = name.split('R')\n",
        "    num = int(splits[0][1:])\n",
        "    df = pd.read_csv(os.path.join(path,name),  delimiter=' ', names=col_names)\n",
        "    dataframes[num].append(df)"
      ]
    },
    {
      "cell_type": "code",
      "execution_count": 5,
      "id": "017ae2de",
      "metadata": {
        "colab": {
          "base_uri": "https://localhost:8080/",
          "height": 206
        },
        "id": "017ae2de",
        "outputId": "2b7f2347-617d-44ba-c950-ba64751c6eec"
      },
      "outputs": [
        {
          "output_type": "execute_result",
          "data": {
            "text/plain": [
              "   id gender  age  disease_duration   HY\n",
              "0   1      M   66                16  3.0\n",
              "1   2      M   67                 7  2.0\n",
              "2   3      M   59                30  2.5\n",
              "3   4      M   62                 3  3.0\n",
              "4   5      M   75                 6  2.0"
            ],
            "text/html": [
              "\n",
              "  <div id=\"df-e4f11450-f95c-4bf3-b493-a4b3d3a9f4f3\">\n",
              "    <div class=\"colab-df-container\">\n",
              "      <div>\n",
              "<style scoped>\n",
              "    .dataframe tbody tr th:only-of-type {\n",
              "        vertical-align: middle;\n",
              "    }\n",
              "\n",
              "    .dataframe tbody tr th {\n",
              "        vertical-align: top;\n",
              "    }\n",
              "\n",
              "    .dataframe thead th {\n",
              "        text-align: right;\n",
              "    }\n",
              "</style>\n",
              "<table border=\"1\" class=\"dataframe\">\n",
              "  <thead>\n",
              "    <tr style=\"text-align: right;\">\n",
              "      <th></th>\n",
              "      <th>id</th>\n",
              "      <th>gender</th>\n",
              "      <th>age</th>\n",
              "      <th>disease_duration</th>\n",
              "      <th>HY</th>\n",
              "    </tr>\n",
              "  </thead>\n",
              "  <tbody>\n",
              "    <tr>\n",
              "      <th>0</th>\n",
              "      <td>1</td>\n",
              "      <td>M</td>\n",
              "      <td>66</td>\n",
              "      <td>16</td>\n",
              "      <td>3.0</td>\n",
              "    </tr>\n",
              "    <tr>\n",
              "      <th>1</th>\n",
              "      <td>2</td>\n",
              "      <td>M</td>\n",
              "      <td>67</td>\n",
              "      <td>7</td>\n",
              "      <td>2.0</td>\n",
              "    </tr>\n",
              "    <tr>\n",
              "      <th>2</th>\n",
              "      <td>3</td>\n",
              "      <td>M</td>\n",
              "      <td>59</td>\n",
              "      <td>30</td>\n",
              "      <td>2.5</td>\n",
              "    </tr>\n",
              "    <tr>\n",
              "      <th>3</th>\n",
              "      <td>4</td>\n",
              "      <td>M</td>\n",
              "      <td>62</td>\n",
              "      <td>3</td>\n",
              "      <td>3.0</td>\n",
              "    </tr>\n",
              "    <tr>\n",
              "      <th>4</th>\n",
              "      <td>5</td>\n",
              "      <td>M</td>\n",
              "      <td>75</td>\n",
              "      <td>6</td>\n",
              "      <td>2.0</td>\n",
              "    </tr>\n",
              "  </tbody>\n",
              "</table>\n",
              "</div>\n",
              "      <button class=\"colab-df-convert\" onclick=\"convertToInteractive('df-e4f11450-f95c-4bf3-b493-a4b3d3a9f4f3')\"\n",
              "              title=\"Convert this dataframe to an interactive table.\"\n",
              "              style=\"display:none;\">\n",
              "        \n",
              "  <svg xmlns=\"http://www.w3.org/2000/svg\" height=\"24px\"viewBox=\"0 0 24 24\"\n",
              "       width=\"24px\">\n",
              "    <path d=\"M0 0h24v24H0V0z\" fill=\"none\"/>\n",
              "    <path d=\"M18.56 5.44l.94 2.06.94-2.06 2.06-.94-2.06-.94-.94-2.06-.94 2.06-2.06.94zm-11 1L8.5 8.5l.94-2.06 2.06-.94-2.06-.94L8.5 2.5l-.94 2.06-2.06.94zm10 10l.94 2.06.94-2.06 2.06-.94-2.06-.94-.94-2.06-.94 2.06-2.06.94z\"/><path d=\"M17.41 7.96l-1.37-1.37c-.4-.4-.92-.59-1.43-.59-.52 0-1.04.2-1.43.59L10.3 9.45l-7.72 7.72c-.78.78-.78 2.05 0 2.83L4 21.41c.39.39.9.59 1.41.59.51 0 1.02-.2 1.41-.59l7.78-7.78 2.81-2.81c.8-.78.8-2.07 0-2.86zM5.41 20L4 18.59l7.72-7.72 1.47 1.35L5.41 20z\"/>\n",
              "  </svg>\n",
              "      </button>\n",
              "      \n",
              "  <style>\n",
              "    .colab-df-container {\n",
              "      display:flex;\n",
              "      flex-wrap:wrap;\n",
              "      gap: 12px;\n",
              "    }\n",
              "\n",
              "    .colab-df-convert {\n",
              "      background-color: #E8F0FE;\n",
              "      border: none;\n",
              "      border-radius: 50%;\n",
              "      cursor: pointer;\n",
              "      display: none;\n",
              "      fill: #1967D2;\n",
              "      height: 32px;\n",
              "      padding: 0 0 0 0;\n",
              "      width: 32px;\n",
              "    }\n",
              "\n",
              "    .colab-df-convert:hover {\n",
              "      background-color: #E2EBFA;\n",
              "      box-shadow: 0px 1px 2px rgba(60, 64, 67, 0.3), 0px 1px 3px 1px rgba(60, 64, 67, 0.15);\n",
              "      fill: #174EA6;\n",
              "    }\n",
              "\n",
              "    [theme=dark] .colab-df-convert {\n",
              "      background-color: #3B4455;\n",
              "      fill: #D2E3FC;\n",
              "    }\n",
              "\n",
              "    [theme=dark] .colab-df-convert:hover {\n",
              "      background-color: #434B5C;\n",
              "      box-shadow: 0px 1px 3px 1px rgba(0, 0, 0, 0.15);\n",
              "      filter: drop-shadow(0px 1px 2px rgba(0, 0, 0, 0.3));\n",
              "      fill: #FFFFFF;\n",
              "    }\n",
              "  </style>\n",
              "\n",
              "      <script>\n",
              "        const buttonEl =\n",
              "          document.querySelector('#df-e4f11450-f95c-4bf3-b493-a4b3d3a9f4f3 button.colab-df-convert');\n",
              "        buttonEl.style.display =\n",
              "          google.colab.kernel.accessAllowed ? 'block' : 'none';\n",
              "\n",
              "        async function convertToInteractive(key) {\n",
              "          const element = document.querySelector('#df-e4f11450-f95c-4bf3-b493-a4b3d3a9f4f3');\n",
              "          const dataTable =\n",
              "            await google.colab.kernel.invokeFunction('convertToInteractive',\n",
              "                                                     [key], {});\n",
              "          if (!dataTable) return;\n",
              "\n",
              "          const docLinkHtml = 'Like what you see? Visit the ' +\n",
              "            '<a target=\"_blank\" href=https://colab.research.google.com/notebooks/data_table.ipynb>data table notebook</a>'\n",
              "            + ' to learn more about interactive tables.';\n",
              "          element.innerHTML = '';\n",
              "          dataTable['output_type'] = 'display_data';\n",
              "          await google.colab.output.renderOutput(dataTable, element);\n",
              "          const docLink = document.createElement('div');\n",
              "          docLink.innerHTML = docLinkHtml;\n",
              "          element.appendChild(docLink);\n",
              "        }\n",
              "      </script>\n",
              "    </div>\n",
              "  </div>\n",
              "  "
            ]
          },
          "metadata": {},
          "execution_count": 5
        }
      ],
      "source": [
        "subject_data_path = '/content/drive/MyDrive/Pesquisa SUPER/subject data/extra_data.csv'\n",
        "subject_df = pd.read_csv(subject_data_path)\n",
        "subject_df.head()"
      ]
    },
    {
      "cell_type": "markdown",
      "id": "2302d13a",
      "metadata": {
        "id": "2302d13a"
      },
      "source": [
        "Change Male\\Female to categorical"
      ]
    },
    {
      "cell_type": "code",
      "execution_count": 6,
      "id": "8bcd2407",
      "metadata": {
        "id": "8bcd2407"
      },
      "outputs": [],
      "source": [
        "subject_df['gender'] = subject_df['gender'].map({'M':1, 'F':0})"
      ]
    },
    {
      "cell_type": "markdown",
      "id": "a2088f27",
      "metadata": {
        "id": "a2088f27"
      },
      "source": [
        "Remove all records with annotation==0 since they are not part of the expiriment. Also, convert 1 to 0 and 2 to 1 - for better use and understanding of evaluation metrics."
      ]
    },
    {
      "cell_type": "code",
      "execution_count": 7,
      "id": "d9d168ca",
      "metadata": {
        "id": "d9d168ca"
      },
      "outputs": [],
      "source": [
        "for key,old_dfs in dataframes.items():\n",
        "    new_dfs = []\n",
        "    for df in old_dfs:\n",
        "        new_df = df[df['label'] != 0]\n",
        "        new_dfs.append(new_df)\n",
        "    dataframes[key] = new_dfs"
      ]
    },
    {
      "cell_type": "markdown",
      "id": "3da0cba0",
      "metadata": {
        "id": "3da0cba0"
      },
      "source": [
        "Concat data frames of same subject"
      ]
    },
    {
      "cell_type": "code",
      "execution_count": 8,
      "id": "c9a40ec2",
      "metadata": {
        "id": "c9a40ec2"
      },
      "outputs": [],
      "source": [
        "subjects = {}\n",
        "for key in dataframes.keys():\n",
        "    subjects[key] = pd.concat(dataframes[key])"
      ]
    },
    {
      "cell_type": "markdown",
      "id": "09ee4f8e",
      "metadata": {
        "id": "09ee4f8e"
      },
      "source": [
        "For each subject, add id as column"
      ]
    },
    {
      "cell_type": "code",
      "execution_count": 9,
      "id": "7a64156e",
      "metadata": {
        "id": "7a64156e"
      },
      "outputs": [],
      "source": [
        "for key, subject in subjects.items():\n",
        "    subjects[key].loc[:,'id'] = key"
      ]
    },
    {
      "cell_type": "markdown",
      "id": "272e8e17",
      "metadata": {
        "id": "272e8e17"
      },
      "source": [
        "# Basic Benchmark"
      ]
    },
    {
      "cell_type": "markdown",
      "id": "e1c4b80e",
      "metadata": {
        "id": "e1c4b80e"
      },
      "source": [
        "Create one big dataframe"
      ]
    },
    {
      "cell_type": "code",
      "execution_count": 10,
      "id": "bbbc297e",
      "metadata": {
        "colab": {
          "base_uri": "https://localhost:8080/",
          "height": 206
        },
        "id": "bbbc297e",
        "outputId": "0fab1774-fc2c-411b-f680-e0565bec9aa1"
      },
      "outputs": [
        {
          "output_type": "execute_result",
          "data": {
            "text/plain": [
              "         time  ank_hor_fwd  ank_vert  ank_hor_lat  leg_hor_fwd  leg_vert  \\\n",
              "47999  750000          -30       990          326          -45       972   \n",
              "48000  750015          -30      1000          356          -18       981   \n",
              "48001  750031          -20       990          336           18       981   \n",
              "48002  750046          -20      1000          316           36       990   \n",
              "48003  750062            0       990          316           36       990   \n",
              "\n",
              "       leg_hor_lat  trunk_hor_fwd  trunk_vert  trunk_hor_lat  label  id  \n",
              "47999          181            -38        1000             29      1   1  \n",
              "48000          212            -48        1028             29      1   1  \n",
              "48001          222            -38        1038              9      1   1  \n",
              "48002          222            -19        1038              9      1   1  \n",
              "48003          212            -29        1038             29      1   1  "
            ],
            "text/html": [
              "\n",
              "  <div id=\"df-921f6b45-8fb4-4e5f-a00d-2f974979b285\">\n",
              "    <div class=\"colab-df-container\">\n",
              "      <div>\n",
              "<style scoped>\n",
              "    .dataframe tbody tr th:only-of-type {\n",
              "        vertical-align: middle;\n",
              "    }\n",
              "\n",
              "    .dataframe tbody tr th {\n",
              "        vertical-align: top;\n",
              "    }\n",
              "\n",
              "    .dataframe thead th {\n",
              "        text-align: right;\n",
              "    }\n",
              "</style>\n",
              "<table border=\"1\" class=\"dataframe\">\n",
              "  <thead>\n",
              "    <tr style=\"text-align: right;\">\n",
              "      <th></th>\n",
              "      <th>time</th>\n",
              "      <th>ank_hor_fwd</th>\n",
              "      <th>ank_vert</th>\n",
              "      <th>ank_hor_lat</th>\n",
              "      <th>leg_hor_fwd</th>\n",
              "      <th>leg_vert</th>\n",
              "      <th>leg_hor_lat</th>\n",
              "      <th>trunk_hor_fwd</th>\n",
              "      <th>trunk_vert</th>\n",
              "      <th>trunk_hor_lat</th>\n",
              "      <th>label</th>\n",
              "      <th>id</th>\n",
              "    </tr>\n",
              "  </thead>\n",
              "  <tbody>\n",
              "    <tr>\n",
              "      <th>47999</th>\n",
              "      <td>750000</td>\n",
              "      <td>-30</td>\n",
              "      <td>990</td>\n",
              "      <td>326</td>\n",
              "      <td>-45</td>\n",
              "      <td>972</td>\n",
              "      <td>181</td>\n",
              "      <td>-38</td>\n",
              "      <td>1000</td>\n",
              "      <td>29</td>\n",
              "      <td>1</td>\n",
              "      <td>1</td>\n",
              "    </tr>\n",
              "    <tr>\n",
              "      <th>48000</th>\n",
              "      <td>750015</td>\n",
              "      <td>-30</td>\n",
              "      <td>1000</td>\n",
              "      <td>356</td>\n",
              "      <td>-18</td>\n",
              "      <td>981</td>\n",
              "      <td>212</td>\n",
              "      <td>-48</td>\n",
              "      <td>1028</td>\n",
              "      <td>29</td>\n",
              "      <td>1</td>\n",
              "      <td>1</td>\n",
              "    </tr>\n",
              "    <tr>\n",
              "      <th>48001</th>\n",
              "      <td>750031</td>\n",
              "      <td>-20</td>\n",
              "      <td>990</td>\n",
              "      <td>336</td>\n",
              "      <td>18</td>\n",
              "      <td>981</td>\n",
              "      <td>222</td>\n",
              "      <td>-38</td>\n",
              "      <td>1038</td>\n",
              "      <td>9</td>\n",
              "      <td>1</td>\n",
              "      <td>1</td>\n",
              "    </tr>\n",
              "    <tr>\n",
              "      <th>48002</th>\n",
              "      <td>750046</td>\n",
              "      <td>-20</td>\n",
              "      <td>1000</td>\n",
              "      <td>316</td>\n",
              "      <td>36</td>\n",
              "      <td>990</td>\n",
              "      <td>222</td>\n",
              "      <td>-19</td>\n",
              "      <td>1038</td>\n",
              "      <td>9</td>\n",
              "      <td>1</td>\n",
              "      <td>1</td>\n",
              "    </tr>\n",
              "    <tr>\n",
              "      <th>48003</th>\n",
              "      <td>750062</td>\n",
              "      <td>0</td>\n",
              "      <td>990</td>\n",
              "      <td>316</td>\n",
              "      <td>36</td>\n",
              "      <td>990</td>\n",
              "      <td>212</td>\n",
              "      <td>-29</td>\n",
              "      <td>1038</td>\n",
              "      <td>29</td>\n",
              "      <td>1</td>\n",
              "      <td>1</td>\n",
              "    </tr>\n",
              "  </tbody>\n",
              "</table>\n",
              "</div>\n",
              "      <button class=\"colab-df-convert\" onclick=\"convertToInteractive('df-921f6b45-8fb4-4e5f-a00d-2f974979b285')\"\n",
              "              title=\"Convert this dataframe to an interactive table.\"\n",
              "              style=\"display:none;\">\n",
              "        \n",
              "  <svg xmlns=\"http://www.w3.org/2000/svg\" height=\"24px\"viewBox=\"0 0 24 24\"\n",
              "       width=\"24px\">\n",
              "    <path d=\"M0 0h24v24H0V0z\" fill=\"none\"/>\n",
              "    <path d=\"M18.56 5.44l.94 2.06.94-2.06 2.06-.94-2.06-.94-.94-2.06-.94 2.06-2.06.94zm-11 1L8.5 8.5l.94-2.06 2.06-.94-2.06-.94L8.5 2.5l-.94 2.06-2.06.94zm10 10l.94 2.06.94-2.06 2.06-.94-2.06-.94-.94-2.06-.94 2.06-2.06.94z\"/><path d=\"M17.41 7.96l-1.37-1.37c-.4-.4-.92-.59-1.43-.59-.52 0-1.04.2-1.43.59L10.3 9.45l-7.72 7.72c-.78.78-.78 2.05 0 2.83L4 21.41c.39.39.9.59 1.41.59.51 0 1.02-.2 1.41-.59l7.78-7.78 2.81-2.81c.8-.78.8-2.07 0-2.86zM5.41 20L4 18.59l7.72-7.72 1.47 1.35L5.41 20z\"/>\n",
              "  </svg>\n",
              "      </button>\n",
              "      \n",
              "  <style>\n",
              "    .colab-df-container {\n",
              "      display:flex;\n",
              "      flex-wrap:wrap;\n",
              "      gap: 12px;\n",
              "    }\n",
              "\n",
              "    .colab-df-convert {\n",
              "      background-color: #E8F0FE;\n",
              "      border: none;\n",
              "      border-radius: 50%;\n",
              "      cursor: pointer;\n",
              "      display: none;\n",
              "      fill: #1967D2;\n",
              "      height: 32px;\n",
              "      padding: 0 0 0 0;\n",
              "      width: 32px;\n",
              "    }\n",
              "\n",
              "    .colab-df-convert:hover {\n",
              "      background-color: #E2EBFA;\n",
              "      box-shadow: 0px 1px 2px rgba(60, 64, 67, 0.3), 0px 1px 3px 1px rgba(60, 64, 67, 0.15);\n",
              "      fill: #174EA6;\n",
              "    }\n",
              "\n",
              "    [theme=dark] .colab-df-convert {\n",
              "      background-color: #3B4455;\n",
              "      fill: #D2E3FC;\n",
              "    }\n",
              "\n",
              "    [theme=dark] .colab-df-convert:hover {\n",
              "      background-color: #434B5C;\n",
              "      box-shadow: 0px 1px 3px 1px rgba(0, 0, 0, 0.15);\n",
              "      filter: drop-shadow(0px 1px 2px rgba(0, 0, 0, 0.3));\n",
              "      fill: #FFFFFF;\n",
              "    }\n",
              "  </style>\n",
              "\n",
              "      <script>\n",
              "        const buttonEl =\n",
              "          document.querySelector('#df-921f6b45-8fb4-4e5f-a00d-2f974979b285 button.colab-df-convert');\n",
              "        buttonEl.style.display =\n",
              "          google.colab.kernel.accessAllowed ? 'block' : 'none';\n",
              "\n",
              "        async function convertToInteractive(key) {\n",
              "          const element = document.querySelector('#df-921f6b45-8fb4-4e5f-a00d-2f974979b285');\n",
              "          const dataTable =\n",
              "            await google.colab.kernel.invokeFunction('convertToInteractive',\n",
              "                                                     [key], {});\n",
              "          if (!dataTable) return;\n",
              "\n",
              "          const docLinkHtml = 'Like what you see? Visit the ' +\n",
              "            '<a target=\"_blank\" href=https://colab.research.google.com/notebooks/data_table.ipynb>data table notebook</a>'\n",
              "            + ' to learn more about interactive tables.';\n",
              "          element.innerHTML = '';\n",
              "          dataTable['output_type'] = 'display_data';\n",
              "          await google.colab.output.renderOutput(dataTable, element);\n",
              "          const docLink = document.createElement('div');\n",
              "          docLink.innerHTML = docLinkHtml;\n",
              "          element.appendChild(docLink);\n",
              "        }\n",
              "      </script>\n",
              "    </div>\n",
              "  </div>\n",
              "  "
            ]
          },
          "metadata": {},
          "execution_count": 10
        }
      ],
      "source": [
        "all_df = pd.concat(subjects.values())\n",
        "all_df.head()"
      ]
    },
    {
      "cell_type": "markdown",
      "id": "f2fae656",
      "metadata": {
        "id": "f2fae656"
      },
      "source": [
        "Convert 1 to 0 and 2 to 1 - for better use and understanding of evaluation metrics."
      ]
    },
    {
      "cell_type": "code",
      "execution_count": 11,
      "id": "b21a96e0",
      "metadata": {
        "id": "b21a96e0"
      },
      "outputs": [],
      "source": [
        "all_df.loc[:, 'label'] -= 1"
      ]
    },
    {
      "cell_type": "markdown",
      "id": "a58921ce",
      "metadata": {
        "id": "a58921ce"
      },
      "source": [
        "Merge data with extra data"
      ]
    },
    {
      "cell_type": "code",
      "execution_count": 12,
      "id": "44883c87",
      "metadata": {
        "colab": {
          "base_uri": "https://localhost:8080/",
          "height": 206
        },
        "id": "44883c87",
        "outputId": "8a4ae956-e961-4e28-e8ea-ec9a1ab361fe"
      },
      "outputs": [
        {
          "output_type": "execute_result",
          "data": {
            "text/plain": [
              "     time  ank_hor_fwd  ank_vert  ank_hor_lat  leg_hor_fwd  leg_vert  \\\n",
              "0  750000          -30       990          326          -45       972   \n",
              "1  750015          -30      1000          356          -18       981   \n",
              "2  750031          -20       990          336           18       981   \n",
              "3  750046          -20      1000          316           36       990   \n",
              "4  750062            0       990          316           36       990   \n",
              "\n",
              "   leg_hor_lat  trunk_hor_fwd  trunk_vert  trunk_hor_lat  label  id  gender  \\\n",
              "0          181            -38        1000             29      0   1       1   \n",
              "1          212            -48        1028             29      0   1       1   \n",
              "2          222            -38        1038              9      0   1       1   \n",
              "3          222            -19        1038              9      0   1       1   \n",
              "4          212            -29        1038             29      0   1       1   \n",
              "\n",
              "   age  disease_duration   HY  \n",
              "0   66                16  3.0  \n",
              "1   66                16  3.0  \n",
              "2   66                16  3.0  \n",
              "3   66                16  3.0  \n",
              "4   66                16  3.0  "
            ],
            "text/html": [
              "\n",
              "  <div id=\"df-1b25ffbe-1d9a-4125-ab80-b2a79ff553c1\">\n",
              "    <div class=\"colab-df-container\">\n",
              "      <div>\n",
              "<style scoped>\n",
              "    .dataframe tbody tr th:only-of-type {\n",
              "        vertical-align: middle;\n",
              "    }\n",
              "\n",
              "    .dataframe tbody tr th {\n",
              "        vertical-align: top;\n",
              "    }\n",
              "\n",
              "    .dataframe thead th {\n",
              "        text-align: right;\n",
              "    }\n",
              "</style>\n",
              "<table border=\"1\" class=\"dataframe\">\n",
              "  <thead>\n",
              "    <tr style=\"text-align: right;\">\n",
              "      <th></th>\n",
              "      <th>time</th>\n",
              "      <th>ank_hor_fwd</th>\n",
              "      <th>ank_vert</th>\n",
              "      <th>ank_hor_lat</th>\n",
              "      <th>leg_hor_fwd</th>\n",
              "      <th>leg_vert</th>\n",
              "      <th>leg_hor_lat</th>\n",
              "      <th>trunk_hor_fwd</th>\n",
              "      <th>trunk_vert</th>\n",
              "      <th>trunk_hor_lat</th>\n",
              "      <th>label</th>\n",
              "      <th>id</th>\n",
              "      <th>gender</th>\n",
              "      <th>age</th>\n",
              "      <th>disease_duration</th>\n",
              "      <th>HY</th>\n",
              "    </tr>\n",
              "  </thead>\n",
              "  <tbody>\n",
              "    <tr>\n",
              "      <th>0</th>\n",
              "      <td>750000</td>\n",
              "      <td>-30</td>\n",
              "      <td>990</td>\n",
              "      <td>326</td>\n",
              "      <td>-45</td>\n",
              "      <td>972</td>\n",
              "      <td>181</td>\n",
              "      <td>-38</td>\n",
              "      <td>1000</td>\n",
              "      <td>29</td>\n",
              "      <td>0</td>\n",
              "      <td>1</td>\n",
              "      <td>1</td>\n",
              "      <td>66</td>\n",
              "      <td>16</td>\n",
              "      <td>3.0</td>\n",
              "    </tr>\n",
              "    <tr>\n",
              "      <th>1</th>\n",
              "      <td>750015</td>\n",
              "      <td>-30</td>\n",
              "      <td>1000</td>\n",
              "      <td>356</td>\n",
              "      <td>-18</td>\n",
              "      <td>981</td>\n",
              "      <td>212</td>\n",
              "      <td>-48</td>\n",
              "      <td>1028</td>\n",
              "      <td>29</td>\n",
              "      <td>0</td>\n",
              "      <td>1</td>\n",
              "      <td>1</td>\n",
              "      <td>66</td>\n",
              "      <td>16</td>\n",
              "      <td>3.0</td>\n",
              "    </tr>\n",
              "    <tr>\n",
              "      <th>2</th>\n",
              "      <td>750031</td>\n",
              "      <td>-20</td>\n",
              "      <td>990</td>\n",
              "      <td>336</td>\n",
              "      <td>18</td>\n",
              "      <td>981</td>\n",
              "      <td>222</td>\n",
              "      <td>-38</td>\n",
              "      <td>1038</td>\n",
              "      <td>9</td>\n",
              "      <td>0</td>\n",
              "      <td>1</td>\n",
              "      <td>1</td>\n",
              "      <td>66</td>\n",
              "      <td>16</td>\n",
              "      <td>3.0</td>\n",
              "    </tr>\n",
              "    <tr>\n",
              "      <th>3</th>\n",
              "      <td>750046</td>\n",
              "      <td>-20</td>\n",
              "      <td>1000</td>\n",
              "      <td>316</td>\n",
              "      <td>36</td>\n",
              "      <td>990</td>\n",
              "      <td>222</td>\n",
              "      <td>-19</td>\n",
              "      <td>1038</td>\n",
              "      <td>9</td>\n",
              "      <td>0</td>\n",
              "      <td>1</td>\n",
              "      <td>1</td>\n",
              "      <td>66</td>\n",
              "      <td>16</td>\n",
              "      <td>3.0</td>\n",
              "    </tr>\n",
              "    <tr>\n",
              "      <th>4</th>\n",
              "      <td>750062</td>\n",
              "      <td>0</td>\n",
              "      <td>990</td>\n",
              "      <td>316</td>\n",
              "      <td>36</td>\n",
              "      <td>990</td>\n",
              "      <td>212</td>\n",
              "      <td>-29</td>\n",
              "      <td>1038</td>\n",
              "      <td>29</td>\n",
              "      <td>0</td>\n",
              "      <td>1</td>\n",
              "      <td>1</td>\n",
              "      <td>66</td>\n",
              "      <td>16</td>\n",
              "      <td>3.0</td>\n",
              "    </tr>\n",
              "  </tbody>\n",
              "</table>\n",
              "</div>\n",
              "      <button class=\"colab-df-convert\" onclick=\"convertToInteractive('df-1b25ffbe-1d9a-4125-ab80-b2a79ff553c1')\"\n",
              "              title=\"Convert this dataframe to an interactive table.\"\n",
              "              style=\"display:none;\">\n",
              "        \n",
              "  <svg xmlns=\"http://www.w3.org/2000/svg\" height=\"24px\"viewBox=\"0 0 24 24\"\n",
              "       width=\"24px\">\n",
              "    <path d=\"M0 0h24v24H0V0z\" fill=\"none\"/>\n",
              "    <path d=\"M18.56 5.44l.94 2.06.94-2.06 2.06-.94-2.06-.94-.94-2.06-.94 2.06-2.06.94zm-11 1L8.5 8.5l.94-2.06 2.06-.94-2.06-.94L8.5 2.5l-.94 2.06-2.06.94zm10 10l.94 2.06.94-2.06 2.06-.94-2.06-.94-.94-2.06-.94 2.06-2.06.94z\"/><path d=\"M17.41 7.96l-1.37-1.37c-.4-.4-.92-.59-1.43-.59-.52 0-1.04.2-1.43.59L10.3 9.45l-7.72 7.72c-.78.78-.78 2.05 0 2.83L4 21.41c.39.39.9.59 1.41.59.51 0 1.02-.2 1.41-.59l7.78-7.78 2.81-2.81c.8-.78.8-2.07 0-2.86zM5.41 20L4 18.59l7.72-7.72 1.47 1.35L5.41 20z\"/>\n",
              "  </svg>\n",
              "      </button>\n",
              "      \n",
              "  <style>\n",
              "    .colab-df-container {\n",
              "      display:flex;\n",
              "      flex-wrap:wrap;\n",
              "      gap: 12px;\n",
              "    }\n",
              "\n",
              "    .colab-df-convert {\n",
              "      background-color: #E8F0FE;\n",
              "      border: none;\n",
              "      border-radius: 50%;\n",
              "      cursor: pointer;\n",
              "      display: none;\n",
              "      fill: #1967D2;\n",
              "      height: 32px;\n",
              "      padding: 0 0 0 0;\n",
              "      width: 32px;\n",
              "    }\n",
              "\n",
              "    .colab-df-convert:hover {\n",
              "      background-color: #E2EBFA;\n",
              "      box-shadow: 0px 1px 2px rgba(60, 64, 67, 0.3), 0px 1px 3px 1px rgba(60, 64, 67, 0.15);\n",
              "      fill: #174EA6;\n",
              "    }\n",
              "\n",
              "    [theme=dark] .colab-df-convert {\n",
              "      background-color: #3B4455;\n",
              "      fill: #D2E3FC;\n",
              "    }\n",
              "\n",
              "    [theme=dark] .colab-df-convert:hover {\n",
              "      background-color: #434B5C;\n",
              "      box-shadow: 0px 1px 3px 1px rgba(0, 0, 0, 0.15);\n",
              "      filter: drop-shadow(0px 1px 2px rgba(0, 0, 0, 0.3));\n",
              "      fill: #FFFFFF;\n",
              "    }\n",
              "  </style>\n",
              "\n",
              "      <script>\n",
              "        const buttonEl =\n",
              "          document.querySelector('#df-1b25ffbe-1d9a-4125-ab80-b2a79ff553c1 button.colab-df-convert');\n",
              "        buttonEl.style.display =\n",
              "          google.colab.kernel.accessAllowed ? 'block' : 'none';\n",
              "\n",
              "        async function convertToInteractive(key) {\n",
              "          const element = document.querySelector('#df-1b25ffbe-1d9a-4125-ab80-b2a79ff553c1');\n",
              "          const dataTable =\n",
              "            await google.colab.kernel.invokeFunction('convertToInteractive',\n",
              "                                                     [key], {});\n",
              "          if (!dataTable) return;\n",
              "\n",
              "          const docLinkHtml = 'Like what you see? Visit the ' +\n",
              "            '<a target=\"_blank\" href=https://colab.research.google.com/notebooks/data_table.ipynb>data table notebook</a>'\n",
              "            + ' to learn more about interactive tables.';\n",
              "          element.innerHTML = '';\n",
              "          dataTable['output_type'] = 'display_data';\n",
              "          await google.colab.output.renderOutput(dataTable, element);\n",
              "          const docLink = document.createElement('div');\n",
              "          docLink.innerHTML = docLinkHtml;\n",
              "          element.appendChild(docLink);\n",
              "        }\n",
              "      </script>\n",
              "    </div>\n",
              "  </div>\n",
              "  "
            ]
          },
          "metadata": {},
          "execution_count": 12
        }
      ],
      "source": [
        "all_df = all_df.merge(subject_df, on=['id'], how='inner')\n",
        "all_df.head()"
      ]
    },
    {
      "cell_type": "code",
      "source": [
        "all_df.describe()"
      ],
      "metadata": {
        "colab": {
          "base_uri": "https://localhost:8080/",
          "height": 364
        },
        "id": "A_NDF08Lhf6c",
        "outputId": "d1c0b562-71d0-498b-afa4-6265c9233a8d"
      },
      "id": "A_NDF08Lhf6c",
      "execution_count": 36,
      "outputs": [
        {
          "output_type": "execute_result",
          "data": {
            "text/plain": [
              "               time   ank_hor_fwd      ank_vert   ank_hor_lat   leg_hor_fwd  \\\n",
              "count  1.140835e+06  1.140835e+06  1.140835e+06  1.140835e+06  1.140835e+06   \n",
              "mean   1.299566e+06 -9.754756e+01  9.968713e+02  2.426220e+02 -2.151868e+00   \n",
              "std    6.404573e+05  5.744049e+02  3.623900e+02  3.207129e+02  5.654251e+02   \n",
              "min    1.850000e+05 -3.123400e+04 -3.225500e+04 -3.148700e+04 -2.184600e+04   \n",
              "25%    7.892030e+05 -3.030000e+02  9.110000e+02  1.480000e+02 -3.000000e+02   \n",
              "50%    1.183046e+06 -7.000000e+01  9.900000e+02  2.370000e+02 -2.700000e+01   \n",
              "75%    1.774812e+06  1.210000e+02  1.039000e+03  3.460000e+02  3.000000e+02   \n",
              "max    2.930000e+06  2.765100e+04  3.149300e+04  2.943700e+04  2.259600e+04   \n",
              "\n",
              "           leg_vert   leg_hor_lat  trunk_hor_fwd    trunk_vert  trunk_hor_lat  \\\n",
              "count  1.140835e+06  1.140835e+06   1.140835e+06  1.140835e+06   1.140835e+06   \n",
              "mean   7.682198e+02  1.465579e+02   5.513867e+01  9.585585e+02   1.709508e+01   \n",
              "std    3.673463e+02  2.727563e+02   2.019710e+02  1.960703e+02   2.169134e+02   \n",
              "min   -2.967300e+04 -2.390800e+04  -3.951000e+03 -1.323000e+03  -4.242000e+03   \n",
              "25%    4.620000e+02  1.000000e+01  -6.700000e+01  9.230000e+02  -1.160000e+02   \n",
              "50%    9.250000e+02  1.410000e+02   3.800000e+01  9.800000e+02  -9.000000e+00   \n",
              "75%    9.810000e+02  2.720000e+02   1.740000e+02  1.019000e+03   1.260000e+02   \n",
              "max    2.259600e+04  2.259600e+04   6.707000e+03  2.429800e+04   4.300000e+03   \n",
              "\n",
              "              label            id        gender           age  \\\n",
              "count  1.140835e+06  1.140835e+06  1.140835e+06  1.140835e+06   \n",
              "mean   9.710870e-02  5.431704e+00  7.200550e-01  6.619050e+01   \n",
              "std    2.961059e-01  2.889965e+00  4.489721e-01  4.796866e+00   \n",
              "min    0.000000e+00  1.000000e+00  0.000000e+00  5.900000e+01   \n",
              "25%    0.000000e+00  3.000000e+00  0.000000e+00  6.300000e+01   \n",
              "50%    0.000000e+00  5.000000e+00  1.000000e+00  6.600000e+01   \n",
              "75%    0.000000e+00  8.000000e+00  1.000000e+00  6.800000e+01   \n",
              "max    1.000000e+00  1.000000e+01  1.000000e+00  7.500000e+01   \n",
              "\n",
              "       disease_duration            HY  \n",
              "count      1.140835e+06  1.140835e+06  \n",
              "mean       1.399132e+01  2.535764e+00  \n",
              "std        9.514847e+00  5.332447e-01  \n",
              "min        2.000000e+00  2.000000e+00  \n",
              "25%        6.000000e+00  2.000000e+00  \n",
              "50%        9.000000e+00  2.500000e+00  \n",
              "75%        2.200000e+01  3.000000e+00  \n",
              "max        3.000000e+01  4.000000e+00  "
            ],
            "text/html": [
              "\n",
              "  <div id=\"df-734f4a42-a4ac-4df5-ab40-a95823fedc83\">\n",
              "    <div class=\"colab-df-container\">\n",
              "      <div>\n",
              "<style scoped>\n",
              "    .dataframe tbody tr th:only-of-type {\n",
              "        vertical-align: middle;\n",
              "    }\n",
              "\n",
              "    .dataframe tbody tr th {\n",
              "        vertical-align: top;\n",
              "    }\n",
              "\n",
              "    .dataframe thead th {\n",
              "        text-align: right;\n",
              "    }\n",
              "</style>\n",
              "<table border=\"1\" class=\"dataframe\">\n",
              "  <thead>\n",
              "    <tr style=\"text-align: right;\">\n",
              "      <th></th>\n",
              "      <th>time</th>\n",
              "      <th>ank_hor_fwd</th>\n",
              "      <th>ank_vert</th>\n",
              "      <th>ank_hor_lat</th>\n",
              "      <th>leg_hor_fwd</th>\n",
              "      <th>leg_vert</th>\n",
              "      <th>leg_hor_lat</th>\n",
              "      <th>trunk_hor_fwd</th>\n",
              "      <th>trunk_vert</th>\n",
              "      <th>trunk_hor_lat</th>\n",
              "      <th>label</th>\n",
              "      <th>id</th>\n",
              "      <th>gender</th>\n",
              "      <th>age</th>\n",
              "      <th>disease_duration</th>\n",
              "      <th>HY</th>\n",
              "    </tr>\n",
              "  </thead>\n",
              "  <tbody>\n",
              "    <tr>\n",
              "      <th>count</th>\n",
              "      <td>1.140835e+06</td>\n",
              "      <td>1.140835e+06</td>\n",
              "      <td>1.140835e+06</td>\n",
              "      <td>1.140835e+06</td>\n",
              "      <td>1.140835e+06</td>\n",
              "      <td>1.140835e+06</td>\n",
              "      <td>1.140835e+06</td>\n",
              "      <td>1.140835e+06</td>\n",
              "      <td>1.140835e+06</td>\n",
              "      <td>1.140835e+06</td>\n",
              "      <td>1.140835e+06</td>\n",
              "      <td>1.140835e+06</td>\n",
              "      <td>1.140835e+06</td>\n",
              "      <td>1.140835e+06</td>\n",
              "      <td>1.140835e+06</td>\n",
              "      <td>1.140835e+06</td>\n",
              "    </tr>\n",
              "    <tr>\n",
              "      <th>mean</th>\n",
              "      <td>1.299566e+06</td>\n",
              "      <td>-9.754756e+01</td>\n",
              "      <td>9.968713e+02</td>\n",
              "      <td>2.426220e+02</td>\n",
              "      <td>-2.151868e+00</td>\n",
              "      <td>7.682198e+02</td>\n",
              "      <td>1.465579e+02</td>\n",
              "      <td>5.513867e+01</td>\n",
              "      <td>9.585585e+02</td>\n",
              "      <td>1.709508e+01</td>\n",
              "      <td>9.710870e-02</td>\n",
              "      <td>5.431704e+00</td>\n",
              "      <td>7.200550e-01</td>\n",
              "      <td>6.619050e+01</td>\n",
              "      <td>1.399132e+01</td>\n",
              "      <td>2.535764e+00</td>\n",
              "    </tr>\n",
              "    <tr>\n",
              "      <th>std</th>\n",
              "      <td>6.404573e+05</td>\n",
              "      <td>5.744049e+02</td>\n",
              "      <td>3.623900e+02</td>\n",
              "      <td>3.207129e+02</td>\n",
              "      <td>5.654251e+02</td>\n",
              "      <td>3.673463e+02</td>\n",
              "      <td>2.727563e+02</td>\n",
              "      <td>2.019710e+02</td>\n",
              "      <td>1.960703e+02</td>\n",
              "      <td>2.169134e+02</td>\n",
              "      <td>2.961059e-01</td>\n",
              "      <td>2.889965e+00</td>\n",
              "      <td>4.489721e-01</td>\n",
              "      <td>4.796866e+00</td>\n",
              "      <td>9.514847e+00</td>\n",
              "      <td>5.332447e-01</td>\n",
              "    </tr>\n",
              "    <tr>\n",
              "      <th>min</th>\n",
              "      <td>1.850000e+05</td>\n",
              "      <td>-3.123400e+04</td>\n",
              "      <td>-3.225500e+04</td>\n",
              "      <td>-3.148700e+04</td>\n",
              "      <td>-2.184600e+04</td>\n",
              "      <td>-2.967300e+04</td>\n",
              "      <td>-2.390800e+04</td>\n",
              "      <td>-3.951000e+03</td>\n",
              "      <td>-1.323000e+03</td>\n",
              "      <td>-4.242000e+03</td>\n",
              "      <td>0.000000e+00</td>\n",
              "      <td>1.000000e+00</td>\n",
              "      <td>0.000000e+00</td>\n",
              "      <td>5.900000e+01</td>\n",
              "      <td>2.000000e+00</td>\n",
              "      <td>2.000000e+00</td>\n",
              "    </tr>\n",
              "    <tr>\n",
              "      <th>25%</th>\n",
              "      <td>7.892030e+05</td>\n",
              "      <td>-3.030000e+02</td>\n",
              "      <td>9.110000e+02</td>\n",
              "      <td>1.480000e+02</td>\n",
              "      <td>-3.000000e+02</td>\n",
              "      <td>4.620000e+02</td>\n",
              "      <td>1.000000e+01</td>\n",
              "      <td>-6.700000e+01</td>\n",
              "      <td>9.230000e+02</td>\n",
              "      <td>-1.160000e+02</td>\n",
              "      <td>0.000000e+00</td>\n",
              "      <td>3.000000e+00</td>\n",
              "      <td>0.000000e+00</td>\n",
              "      <td>6.300000e+01</td>\n",
              "      <td>6.000000e+00</td>\n",
              "      <td>2.000000e+00</td>\n",
              "    </tr>\n",
              "    <tr>\n",
              "      <th>50%</th>\n",
              "      <td>1.183046e+06</td>\n",
              "      <td>-7.000000e+01</td>\n",
              "      <td>9.900000e+02</td>\n",
              "      <td>2.370000e+02</td>\n",
              "      <td>-2.700000e+01</td>\n",
              "      <td>9.250000e+02</td>\n",
              "      <td>1.410000e+02</td>\n",
              "      <td>3.800000e+01</td>\n",
              "      <td>9.800000e+02</td>\n",
              "      <td>-9.000000e+00</td>\n",
              "      <td>0.000000e+00</td>\n",
              "      <td>5.000000e+00</td>\n",
              "      <td>1.000000e+00</td>\n",
              "      <td>6.600000e+01</td>\n",
              "      <td>9.000000e+00</td>\n",
              "      <td>2.500000e+00</td>\n",
              "    </tr>\n",
              "    <tr>\n",
              "      <th>75%</th>\n",
              "      <td>1.774812e+06</td>\n",
              "      <td>1.210000e+02</td>\n",
              "      <td>1.039000e+03</td>\n",
              "      <td>3.460000e+02</td>\n",
              "      <td>3.000000e+02</td>\n",
              "      <td>9.810000e+02</td>\n",
              "      <td>2.720000e+02</td>\n",
              "      <td>1.740000e+02</td>\n",
              "      <td>1.019000e+03</td>\n",
              "      <td>1.260000e+02</td>\n",
              "      <td>0.000000e+00</td>\n",
              "      <td>8.000000e+00</td>\n",
              "      <td>1.000000e+00</td>\n",
              "      <td>6.800000e+01</td>\n",
              "      <td>2.200000e+01</td>\n",
              "      <td>3.000000e+00</td>\n",
              "    </tr>\n",
              "    <tr>\n",
              "      <th>max</th>\n",
              "      <td>2.930000e+06</td>\n",
              "      <td>2.765100e+04</td>\n",
              "      <td>3.149300e+04</td>\n",
              "      <td>2.943700e+04</td>\n",
              "      <td>2.259600e+04</td>\n",
              "      <td>2.259600e+04</td>\n",
              "      <td>2.259600e+04</td>\n",
              "      <td>6.707000e+03</td>\n",
              "      <td>2.429800e+04</td>\n",
              "      <td>4.300000e+03</td>\n",
              "      <td>1.000000e+00</td>\n",
              "      <td>1.000000e+01</td>\n",
              "      <td>1.000000e+00</td>\n",
              "      <td>7.500000e+01</td>\n",
              "      <td>3.000000e+01</td>\n",
              "      <td>4.000000e+00</td>\n",
              "    </tr>\n",
              "  </tbody>\n",
              "</table>\n",
              "</div>\n",
              "      <button class=\"colab-df-convert\" onclick=\"convertToInteractive('df-734f4a42-a4ac-4df5-ab40-a95823fedc83')\"\n",
              "              title=\"Convert this dataframe to an interactive table.\"\n",
              "              style=\"display:none;\">\n",
              "        \n",
              "  <svg xmlns=\"http://www.w3.org/2000/svg\" height=\"24px\"viewBox=\"0 0 24 24\"\n",
              "       width=\"24px\">\n",
              "    <path d=\"M0 0h24v24H0V0z\" fill=\"none\"/>\n",
              "    <path d=\"M18.56 5.44l.94 2.06.94-2.06 2.06-.94-2.06-.94-.94-2.06-.94 2.06-2.06.94zm-11 1L8.5 8.5l.94-2.06 2.06-.94-2.06-.94L8.5 2.5l-.94 2.06-2.06.94zm10 10l.94 2.06.94-2.06 2.06-.94-2.06-.94-.94-2.06-.94 2.06-2.06.94z\"/><path d=\"M17.41 7.96l-1.37-1.37c-.4-.4-.92-.59-1.43-.59-.52 0-1.04.2-1.43.59L10.3 9.45l-7.72 7.72c-.78.78-.78 2.05 0 2.83L4 21.41c.39.39.9.59 1.41.59.51 0 1.02-.2 1.41-.59l7.78-7.78 2.81-2.81c.8-.78.8-2.07 0-2.86zM5.41 20L4 18.59l7.72-7.72 1.47 1.35L5.41 20z\"/>\n",
              "  </svg>\n",
              "      </button>\n",
              "      \n",
              "  <style>\n",
              "    .colab-df-container {\n",
              "      display:flex;\n",
              "      flex-wrap:wrap;\n",
              "      gap: 12px;\n",
              "    }\n",
              "\n",
              "    .colab-df-convert {\n",
              "      background-color: #E8F0FE;\n",
              "      border: none;\n",
              "      border-radius: 50%;\n",
              "      cursor: pointer;\n",
              "      display: none;\n",
              "      fill: #1967D2;\n",
              "      height: 32px;\n",
              "      padding: 0 0 0 0;\n",
              "      width: 32px;\n",
              "    }\n",
              "\n",
              "    .colab-df-convert:hover {\n",
              "      background-color: #E2EBFA;\n",
              "      box-shadow: 0px 1px 2px rgba(60, 64, 67, 0.3), 0px 1px 3px 1px rgba(60, 64, 67, 0.15);\n",
              "      fill: #174EA6;\n",
              "    }\n",
              "\n",
              "    [theme=dark] .colab-df-convert {\n",
              "      background-color: #3B4455;\n",
              "      fill: #D2E3FC;\n",
              "    }\n",
              "\n",
              "    [theme=dark] .colab-df-convert:hover {\n",
              "      background-color: #434B5C;\n",
              "      box-shadow: 0px 1px 3px 1px rgba(0, 0, 0, 0.15);\n",
              "      filter: drop-shadow(0px 1px 2px rgba(0, 0, 0, 0.3));\n",
              "      fill: #FFFFFF;\n",
              "    }\n",
              "  </style>\n",
              "\n",
              "      <script>\n",
              "        const buttonEl =\n",
              "          document.querySelector('#df-734f4a42-a4ac-4df5-ab40-a95823fedc83 button.colab-df-convert');\n",
              "        buttonEl.style.display =\n",
              "          google.colab.kernel.accessAllowed ? 'block' : 'none';\n",
              "\n",
              "        async function convertToInteractive(key) {\n",
              "          const element = document.querySelector('#df-734f4a42-a4ac-4df5-ab40-a95823fedc83');\n",
              "          const dataTable =\n",
              "            await google.colab.kernel.invokeFunction('convertToInteractive',\n",
              "                                                     [key], {});\n",
              "          if (!dataTable) return;\n",
              "\n",
              "          const docLinkHtml = 'Like what you see? Visit the ' +\n",
              "            '<a target=\"_blank\" href=https://colab.research.google.com/notebooks/data_table.ipynb>data table notebook</a>'\n",
              "            + ' to learn more about interactive tables.';\n",
              "          element.innerHTML = '';\n",
              "          dataTable['output_type'] = 'display_data';\n",
              "          await google.colab.output.renderOutput(dataTable, element);\n",
              "          const docLink = document.createElement('div');\n",
              "          docLink.innerHTML = docLinkHtml;\n",
              "          element.appendChild(docLink);\n",
              "        }\n",
              "      </script>\n",
              "    </div>\n",
              "  </div>\n",
              "  "
            ]
          },
          "metadata": {},
          "execution_count": 36
        }
      ]
    },
    {
      "cell_type": "markdown",
      "id": "6e65de7b",
      "metadata": {
        "id": "6e65de7b"
      },
      "source": [
        "# Data Improvements"
      ]
    },
    {
      "cell_type": "markdown",
      "id": "c7de9686",
      "metadata": {
        "id": "c7de9686"
      },
      "source": [
        "## Remove Outliers"
      ]
    },
    {
      "cell_type": "markdown",
      "id": "2b846feb",
      "metadata": {
        "id": "2b846feb"
      },
      "source": [
        "As seen in the chart below, there are some outlier values with out measurements, these values might be sensor mistakes which are noise for out model"
      ]
    },
    {
      "cell_type": "code",
      "execution_count": 13,
      "id": "a5bb1f66",
      "metadata": {
        "colab": {
          "base_uri": "https://localhost:8080/",
          "height": 283
        },
        "id": "a5bb1f66",
        "outputId": "54d60d68-1d18-4619-e092-ddb69d4a3612"
      },
      "outputs": [
        {
          "output_type": "execute_result",
          "data": {
            "text/plain": [
              "<matplotlib.axes._subplots.AxesSubplot at 0x7fda2c55b390>"
            ]
          },
          "metadata": {},
          "execution_count": 13
        },
        {
          "output_type": "display_data",
          "data": {
            "text/plain": [
              "<Figure size 432x288 with 1 Axes>"
            ],
            "image/png": "[encoded data removed]"
          },
          "metadata": {
            "needs_background": "light"
          }
        }
      ],
      "source": [
        "all_df[feature_col_names].plot.box()"
      ]
    },
    {
      "cell_type": "code",
      "execution_count": 14,
      "id": "eaf046c4",
      "metadata": {
        "id": "eaf046c4"
      },
      "outputs": [],
      "source": [
        "for key,old_dfs in dataframes.items():\n",
        "    new_dfs = []\n",
        "    for df in old_dfs:\n",
        "        new_df = remove_outliers(df, feature_col_names)\n",
        "        new_dfs.append(new_df)\n",
        "    dataframes[key] = new_dfs"
      ]
    },
    {
      "cell_type": "code",
      "execution_count": 15,
      "id": "147daa93",
      "metadata": {
        "id": "147daa93"
      },
      "outputs": [],
      "source": [
        "no_outlier_subjects = {}\n",
        "for key in dataframes.keys():\n",
        "    no_outlier_subjects [key] = pd.concat(dataframes[key])"
      ]
    },
    {
      "cell_type": "code",
      "execution_count": 16,
      "id": "08556530",
      "metadata": {
        "id": "08556530"
      },
      "outputs": [],
      "source": [
        "all_df_no_outliers = pd.concat(no_outlier_subjects.values())"
      ]
    },
    {
      "cell_type": "code",
      "execution_count": 17,
      "id": "b9be6398",
      "metadata": {
        "colab": {
          "base_uri": "https://localhost:8080/",
          "height": 283
        },
        "id": "b9be6398",
        "outputId": "27a5d585-5141-42b7-bb4f-0d6ae26bb77a"
      },
      "outputs": [
        {
          "output_type": "execute_result",
          "data": {
            "text/plain": [
              "<matplotlib.axes._subplots.AxesSubplot at 0x7fda2bf4f350>"
            ]
          },
          "metadata": {},
          "execution_count": 17
        },
        {
          "output_type": "display_data",
          "data": {
            "text/plain": [
              "<Figure size 432x288 with 1 Axes>"
            ],
            "image/png": "[encoded data removed]"
          },
          "metadata": {
            "needs_background": "light"
          }
        }
      ],
      "source": [
        "all_df_no_outliers[feature_col_names].plot.box()"
      ]
    },
    {
      "cell_type": "markdown",
      "id": "1df7768a",
      "metadata": {
        "id": "1df7768a"
      },
      "source": [
        "## Feature Engineering"
      ]
    },
    {
      "cell_type": "markdown",
      "id": "f12faecb",
      "metadata": {
        "id": "f12faecb"
      },
      "source": [
        "Since we are handling time series data (the measurements are taken continiously), past measurements could help us predict the current state. (for example, if in the 10th measurement the patient gets FOG, the previous 3 measurements might be slightly different than every other regular measurement, even thought they are labeled as regular)"
      ]
    },
    {
      "cell_type": "markdown",
      "id": "616a5ba6",
      "metadata": {
        "id": "616a5ba6"
      },
      "source": [
        "Using window of 4 seconds, calculate mean,var,std for every window and add to measurements within the window as new attributes"
      ]
    },
    {
      "cell_type": "code",
      "execution_count": 18,
      "id": "66eed3a2",
      "metadata": {
        "colab": {
          "base_uri": "https://localhost:8080/"
        },
        "id": "66eed3a2",
        "outputId": "42516e0f-5b33-4334-d2aa-50e7008b68a9"
      },
      "outputs": [
        {
          "output_type": "stream",
          "name": "stdout",
          "text": [
            "1\n"
          ]
        },
        {
          "output_type": "stream",
          "name": "stderr",
          "text": [
            "/usr/local/lib/python3.7/dist-packages/ipykernel_launcher.py:22: FutureWarning: Dropping of nuisance columns in DataFrame reductions (with 'numeric_only=None') is deprecated; in a future version this will raise TypeError.  Select only valid columns before calling the reduction.\n"
          ]
        },
        {
          "output_type": "stream",
          "name": "stdout",
          "text": [
            "2\n",
            "3\n",
            "4\n",
            "5\n",
            "6\n",
            "7\n",
            "8\n",
            "9\n",
            "10\n"
          ]
        }
      ],
      "source": [
        "for key,old_dfs in dataframes.items():\n",
        "    print(key)\n",
        "    new_dfs = []\n",
        "    for df in old_dfs:\n",
        "        new_df = add_lookback(df, ['time', 'label'], 4)\n",
        "        new_dfs.append(new_df)\n",
        "    dataframes[key] = new_dfs"
      ]
    },
    {
      "cell_type": "code",
      "execution_count": 19,
      "id": "d34ad01b",
      "metadata": {
        "id": "d34ad01b"
      },
      "outputs": [],
      "source": [
        "no_outlier_subjects = {}\n",
        "for key in dataframes.keys():\n",
        "    no_outlier_subjects [key] = pd.concat(dataframes[key])"
      ]
    },
    {
      "cell_type": "code",
      "execution_count": 20,
      "id": "6fa25da1",
      "metadata": {
        "id": "6fa25da1"
      },
      "outputs": [],
      "source": [
        "for key, subject in no_outlier_subjects.items():\n",
        "    no_outlier_subjects[key].loc[:,'id'] = key"
      ]
    },
    {
      "cell_type": "code",
      "execution_count": 21,
      "id": "8f3eb324",
      "metadata": {
        "colab": {
          "base_uri": "https://localhost:8080/",
          "height": 299
        },
        "id": "8f3eb324",
        "outputId": "0c116c55-af27-4abb-915e-48243750d562"
      },
      "outputs": [
        {
          "output_type": "execute_result",
          "data": {
            "text/plain": [
              "         time  ank_hor_fwd  ank_vert  ank_hor_lat  leg_hor_fwd  leg_vert  \\\n",
              "47999  750000          -30       990          326          -45       972   \n",
              "48000  750015          -30      1000          356          -18       981   \n",
              "48001  750031          -20       990          336           18       981   \n",
              "48002  750046          -20      1000          316           36       990   \n",
              "48003  750062            0       990          316           36       990   \n",
              "\n",
              "       leg_hor_lat  trunk_hor_fwd  trunk_vert  trunk_hor_lat  ...  \\\n",
              "47999          181            -38        1000             29  ...   \n",
              "48000          212            -48        1028             29  ...   \n",
              "48001          222            -38        1038              9  ...   \n",
              "48002          222            -19        1038              9  ...   \n",
              "48003          212            -29        1038             29  ...   \n",
              "\n",
              "       leg_hor_fwd_var  trunk_hor_fwd_var  trunk_hor_lat_var  leg_vert_var  \\\n",
              "47999      5140.245941         878.751961         522.836213    204.930821   \n",
              "48000      5140.245941         878.751961         522.836213    204.930821   \n",
              "48001      5140.245941         878.751961         522.836213    204.930821   \n",
              "48002      5140.245941         878.751961         522.836213    204.930821   \n",
              "48003      5140.245941         878.751961         522.836213    204.930821   \n",
              "\n",
              "       ank_hor_fwd_var  trunk_vert_var  leg_hor_lat_var  ank_vert_var  \\\n",
              "47999      1235.714078      377.922656       523.229167    232.015625   \n",
              "48000      1235.714078      377.922656       523.229167    232.015625   \n",
              "48001      1235.714078      377.922656       523.229167    232.015625   \n",
              "48002      1235.714078      377.922656       523.229167    232.015625   \n",
              "48003      1235.714078      377.922656       523.229167    232.015625   \n",
              "\n",
              "       ank_hor_lat_var  id  \n",
              "47999       510.466115   1  \n",
              "48000       510.466115   1  \n",
              "48001       510.466115   1  \n",
              "48002       510.466115   1  \n",
              "48003       510.466115   1  \n",
              "\n",
              "[5 rows x 39 columns]"
            ],
            "text/html": [
              "\n",
              "  <div id=\"df-1bd43355-dca0-464b-a10f-edd2bb566164\">\n",
              "    <div class=\"colab-df-container\">\n",
              "      <div>\n",
              "<style scoped>\n",
              "    .dataframe tbody tr th:only-of-type {\n",
              "        vertical-align: middle;\n",
              "    }\n",
              "\n",
              "    .dataframe tbody tr th {\n",
              "        vertical-align: top;\n",
              "    }\n",
              "\n",
              "    .dataframe thead th {\n",
              "        text-align: right;\n",
              "    }\n",
              "</style>\n",
              "<table border=\"1\" class=\"dataframe\">\n",
              "  <thead>\n",
              "    <tr style=\"text-align: right;\">\n",
              "      <th></th>\n",
              "      <th>time</th>\n",
              "      <th>ank_hor_fwd</th>\n",
              "      <th>ank_vert</th>\n",
              "      <th>ank_hor_lat</th>\n",
              "      <th>leg_hor_fwd</th>\n",
              "      <th>leg_vert</th>\n",
              "      <th>leg_hor_lat</th>\n",
              "      <th>trunk_hor_fwd</th>\n",
              "      <th>trunk_vert</th>\n",
              "      <th>trunk_hor_lat</th>\n",
              "      <th>...</th>\n",
              "      <th>leg_hor_fwd_var</th>\n",
              "      <th>trunk_hor_fwd_var</th>\n",
              "      <th>trunk_hor_lat_var</th>\n",
              "      <th>leg_vert_var</th>\n",
              "      <th>ank_hor_fwd_var</th>\n",
              "      <th>trunk_vert_var</th>\n",
              "      <th>leg_hor_lat_var</th>\n",
              "      <th>ank_vert_var</th>\n",
              "      <th>ank_hor_lat_var</th>\n",
              "      <th>id</th>\n",
              "    </tr>\n",
              "  </thead>\n",
              "  <tbody>\n",
              "    <tr>\n",
              "      <th>47999</th>\n",
              "      <td>750000</td>\n",
              "      <td>-30</td>\n",
              "      <td>990</td>\n",
              "      <td>326</td>\n",
              "      <td>-45</td>\n",
              "      <td>972</td>\n",
              "      <td>181</td>\n",
              "      <td>-38</td>\n",
              "      <td>1000</td>\n",
              "      <td>29</td>\n",
              "      <td>...</td>\n",
              "      <td>5140.245941</td>\n",
              "      <td>878.751961</td>\n",
              "      <td>522.836213</td>\n",
              "      <td>204.930821</td>\n",
              "      <td>1235.714078</td>\n",
              "      <td>377.922656</td>\n",
              "      <td>523.229167</td>\n",
              "      <td>232.015625</td>\n",
              "      <td>510.466115</td>\n",
              "      <td>1</td>\n",
              "    </tr>\n",
              "    <tr>\n",
              "      <th>48000</th>\n",
              "      <td>750015</td>\n",
              "      <td>-30</td>\n",
              "      <td>1000</td>\n",
              "      <td>356</td>\n",
              "      <td>-18</td>\n",
              "      <td>981</td>\n",
              "      <td>212</td>\n",
              "      <td>-48</td>\n",
              "      <td>1028</td>\n",
              "      <td>29</td>\n",
              "      <td>...</td>\n",
              "      <td>5140.245941</td>\n",
              "      <td>878.751961</td>\n",
              "      <td>522.836213</td>\n",
              "      <td>204.930821</td>\n",
              "      <td>1235.714078</td>\n",
              "      <td>377.922656</td>\n",
              "      <td>523.229167</td>\n",
              "      <td>232.015625</td>\n",
              "      <td>510.466115</td>\n",
              "      <td>1</td>\n",
              "    </tr>\n",
              "    <tr>\n",
              "      <th>48001</th>\n",
              "      <td>750031</td>\n",
              "      <td>-20</td>\n",
              "      <td>990</td>\n",
              "      <td>336</td>\n",
              "      <td>18</td>\n",
              "      <td>981</td>\n",
              "      <td>222</td>\n",
              "      <td>-38</td>\n",
              "      <td>1038</td>\n",
              "      <td>9</td>\n",
              "      <td>...</td>\n",
              "      <td>5140.245941</td>\n",
              "      <td>878.751961</td>\n",
              "      <td>522.836213</td>\n",
              "      <td>204.930821</td>\n",
              "      <td>1235.714078</td>\n",
              "      <td>377.922656</td>\n",
              "      <td>523.229167</td>\n",
              "      <td>232.015625</td>\n",
              "      <td>510.466115</td>\n",
              "      <td>1</td>\n",
              "    </tr>\n",
              "    <tr>\n",
              "      <th>48002</th>\n",
              "      <td>750046</td>\n",
              "      <td>-20</td>\n",
              "      <td>1000</td>\n",
              "      <td>316</td>\n",
              "      <td>36</td>\n",
              "      <td>990</td>\n",
              "      <td>222</td>\n",
              "      <td>-19</td>\n",
              "      <td>1038</td>\n",
              "      <td>9</td>\n",
              "      <td>...</td>\n",
              "      <td>5140.245941</td>\n",
              "      <td>878.751961</td>\n",
              "      <td>522.836213</td>\n",
              "      <td>204.930821</td>\n",
              "      <td>1235.714078</td>\n",
              "      <td>377.922656</td>\n",
              "      <td>523.229167</td>\n",
              "      <td>232.015625</td>\n",
              "      <td>510.466115</td>\n",
              "      <td>1</td>\n",
              "    </tr>\n",
              "    <tr>\n",
              "      <th>48003</th>\n",
              "      <td>750062</td>\n",
              "      <td>0</td>\n",
              "      <td>990</td>\n",
              "      <td>316</td>\n",
              "      <td>36</td>\n",
              "      <td>990</td>\n",
              "      <td>212</td>\n",
              "      <td>-29</td>\n",
              "      <td>1038</td>\n",
              "      <td>29</td>\n",
              "      <td>...</td>\n",
              "      <td>5140.245941</td>\n",
              "      <td>878.751961</td>\n",
              "      <td>522.836213</td>\n",
              "      <td>204.930821</td>\n",
              "      <td>1235.714078</td>\n",
              "      <td>377.922656</td>\n",
              "      <td>523.229167</td>\n",
              "      <td>232.015625</td>\n",
              "      <td>510.466115</td>\n",
              "      <td>1</td>\n",
              "    </tr>\n",
              "  </tbody>\n",
              "</table>\n",
              "<p>5 rows × 39 columns</p>\n",
              "</div>\n",
              "      <button class=\"colab-df-convert\" onclick=\"convertToInteractive('df-1bd43355-dca0-464b-a10f-edd2bb566164')\"\n",
              "              title=\"Convert this dataframe to an interactive table.\"\n",
              "              style=\"display:none;\">\n",
              "        \n",
              "  <svg xmlns=\"http://www.w3.org/2000/svg\" height=\"24px\"viewBox=\"0 0 24 24\"\n",
              "       width=\"24px\">\n",
              "    <path d=\"M0 0h24v24H0V0z\" fill=\"none\"/>\n",
              "    <path d=\"M18.56 5.44l.94 2.06.94-2.06 2.06-.94-2.06-.94-.94-2.06-.94 2.06-2.06.94zm-11 1L8.5 8.5l.94-2.06 2.06-.94-2.06-.94L8.5 2.5l-.94 2.06-2.06.94zm10 10l.94 2.06.94-2.06 2.06-.94-2.06-.94-.94-2.06-.94 2.06-2.06.94z\"/><path d=\"M17.41 7.96l-1.37-1.37c-.4-.4-.92-.59-1.43-.59-.52 0-1.04.2-1.43.59L10.3 9.45l-7.72 7.72c-.78.78-.78 2.05 0 2.83L4 21.41c.39.39.9.59 1.41.59.51 0 1.02-.2 1.41-.59l7.78-7.78 2.81-2.81c.8-.78.8-2.07 0-2.86zM5.41 20L4 18.59l7.72-7.72 1.47 1.35L5.41 20z\"/>\n",
              "  </svg>\n",
              "      </button>\n",
              "      \n",
              "  <style>\n",
              "    .colab-df-container {\n",
              "      display:flex;\n",
              "      flex-wrap:wrap;\n",
              "      gap: 12px;\n",
              "    }\n",
              "\n",
              "    .colab-df-convert {\n",
              "      background-color: #E8F0FE;\n",
              "      border: none;\n",
              "      border-radius: 50%;\n",
              "      cursor: pointer;\n",
              "      display: none;\n",
              "      fill: #1967D2;\n",
              "      height: 32px;\n",
              "      padding: 0 0 0 0;\n",
              "      width: 32px;\n",
              "    }\n",
              "\n",
              "    .colab-df-convert:hover {\n",
              "      background-color: #E2EBFA;\n",
              "      box-shadow: 0px 1px 2px rgba(60, 64, 67, 0.3), 0px 1px 3px 1px rgba(60, 64, 67, 0.15);\n",
              "      fill: #174EA6;\n",
              "    }\n",
              "\n",
              "    [theme=dark] .colab-df-convert {\n",
              "      background-color: #3B4455;\n",
              "      fill: #D2E3FC;\n",
              "    }\n",
              "\n",
              "    [theme=dark] .colab-df-convert:hover {\n",
              "      background-color: #434B5C;\n",
              "      box-shadow: 0px 1px 3px 1px rgba(0, 0, 0, 0.15);\n",
              "      filter: drop-shadow(0px 1px 2px rgba(0, 0, 0, 0.3));\n",
              "      fill: #FFFFFF;\n",
              "    }\n",
              "  </style>\n",
              "\n",
              "      <script>\n",
              "        const buttonEl =\n",
              "          document.querySelector('#df-1bd43355-dca0-464b-a10f-edd2bb566164 button.colab-df-convert');\n",
              "        buttonEl.style.display =\n",
              "          google.colab.kernel.accessAllowed ? 'block' : 'none';\n",
              "\n",
              "        async function convertToInteractive(key) {\n",
              "          const element = document.querySelector('#df-1bd43355-dca0-464b-a10f-edd2bb566164');\n",
              "          const dataTable =\n",
              "            await google.colab.kernel.invokeFunction('convertToInteractive',\n",
              "                                                     [key], {});\n",
              "          if (!dataTable) return;\n",
              "\n",
              "          const docLinkHtml = 'Like what you see? Visit the ' +\n",
              "            '<a target=\"_blank\" href=https://colab.research.google.com/notebooks/data_table.ipynb>data table notebook</a>'\n",
              "            + ' to learn more about interactive tables.';\n",
              "          element.innerHTML = '';\n",
              "          dataTable['output_type'] = 'display_data';\n",
              "          await google.colab.output.renderOutput(dataTable, element);\n",
              "          const docLink = document.createElement('div');\n",
              "          docLink.innerHTML = docLinkHtml;\n",
              "          element.appendChild(docLink);\n",
              "        }\n",
              "      </script>\n",
              "    </div>\n",
              "  </div>\n",
              "  "
            ]
          },
          "metadata": {},
          "execution_count": 21
        }
      ],
      "source": [
        "all_df_no_outliers = pd.concat(no_outlier_subjects.values())\n",
        "all_df_no_outliers.head()"
      ]
    },
    {
      "cell_type": "code",
      "execution_count": 22,
      "id": "fa7f27f8",
      "metadata": {
        "colab": {
          "base_uri": "https://localhost:8080/",
          "height": 1000
        },
        "id": "fa7f27f8",
        "outputId": "d7c770f3-1182-4864-af65-0828ffbb963f"
      },
      "outputs": [
        {
          "output_type": "stream",
          "name": "stdout",
          "text": [
            "<class 'pandas.core.frame.DataFrame'>\n",
            "Int64Index: 845598 entries, 0 to 845597\n",
            "Data columns (total 43 columns):\n",
            " #   Column              Non-Null Count   Dtype  \n",
            "---  ------              --------------   -----  \n",
            " 0   time                845598 non-null  int64  \n",
            " 1   ank_hor_fwd         845598 non-null  int64  \n",
            " 2   ank_vert            845598 non-null  int64  \n",
            " 3   ank_hor_lat         845598 non-null  int64  \n",
            " 4   leg_hor_fwd         845598 non-null  int64  \n",
            " 5   leg_vert            845598 non-null  int64  \n",
            " 6   leg_hor_lat         845598 non-null  int64  \n",
            " 7   trunk_hor_fwd       845598 non-null  int64  \n",
            " 8   trunk_vert          845598 non-null  int64  \n",
            " 9   trunk_hor_lat       845598 non-null  int64  \n",
            " 10  label               845598 non-null  int64  \n",
            " 11  leg_hor_fwd_mean    845598 non-null  float64\n",
            " 12  trunk_hor_fwd_mean  845598 non-null  float64\n",
            " 13  trunk_hor_lat_mean  845598 non-null  float64\n",
            " 14  leg_vert_mean       845598 non-null  float64\n",
            " 15  ank_hor_fwd_mean    845598 non-null  float64\n",
            " 16  trunk_vert_mean     845598 non-null  float64\n",
            " 17  leg_hor_lat_mean    845598 non-null  float64\n",
            " 18  ank_vert_mean       845598 non-null  float64\n",
            " 19  ank_hor_lat_mean    845598 non-null  float64\n",
            " 20  leg_hor_fwd_std     845598 non-null  float64\n",
            " 21  trunk_hor_fwd_std   845598 non-null  float64\n",
            " 22  trunk_hor_lat_std   845598 non-null  float64\n",
            " 23  leg_vert_std        845598 non-null  float64\n",
            " 24  ank_hor_fwd_std     845598 non-null  float64\n",
            " 25  trunk_vert_std      845598 non-null  float64\n",
            " 26  leg_hor_lat_std     845598 non-null  float64\n",
            " 27  ank_vert_std        845598 non-null  float64\n",
            " 28  ank_hor_lat_std     845598 non-null  float64\n",
            " 29  leg_hor_fwd_var     845598 non-null  float64\n",
            " 30  trunk_hor_fwd_var   845598 non-null  float64\n",
            " 31  trunk_hor_lat_var   845598 non-null  float64\n",
            " 32  leg_vert_var        845598 non-null  float64\n",
            " 33  ank_hor_fwd_var     845598 non-null  float64\n",
            " 34  trunk_vert_var      845598 non-null  float64\n",
            " 35  leg_hor_lat_var     845598 non-null  float64\n",
            " 36  ank_vert_var        845598 non-null  float64\n",
            " 37  ank_hor_lat_var     845598 non-null  float64\n",
            " 38  id                  845598 non-null  int64  \n",
            " 39  gender              845598 non-null  int64  \n",
            " 40  age                 845598 non-null  int64  \n",
            " 41  disease_duration    845598 non-null  int64  \n",
            " 42  HY                  845598 non-null  float64\n",
            "dtypes: float64(28), int64(15)\n",
            "memory usage: 283.9 MB\n",
            "None\n"
          ]
        },
        {
          "output_type": "execute_result",
          "data": {
            "text/plain": [
              "     time  ank_hor_fwd  ank_vert  ank_hor_lat  leg_hor_fwd  leg_vert  \\\n",
              "0  750000          -30       990          326          -45       972   \n",
              "1  750015          -30      1000          356          -18       981   \n",
              "2  750031          -20       990          336           18       981   \n",
              "3  750046          -20      1000          316           36       990   \n",
              "4  750062            0       990          316           36       990   \n",
              "\n",
              "   leg_hor_lat  trunk_hor_fwd  trunk_vert  trunk_hor_lat  ...  \\\n",
              "0          181            -38        1000             29  ...   \n",
              "1          212            -48        1028             29  ...   \n",
              "2          222            -38        1038              9  ...   \n",
              "3          222            -19        1038              9  ...   \n",
              "4          212            -29        1038             29  ...   \n",
              "\n",
              "   ank_hor_fwd_var  trunk_vert_var  leg_hor_lat_var  ank_vert_var  \\\n",
              "0      1235.714078      377.922656       523.229167    232.015625   \n",
              "1      1235.714078      377.922656       523.229167    232.015625   \n",
              "2      1235.714078      377.922656       523.229167    232.015625   \n",
              "3      1235.714078      377.922656       523.229167    232.015625   \n",
              "4      1235.714078      377.922656       523.229167    232.015625   \n",
              "\n",
              "   ank_hor_lat_var  id  gender  age  disease_duration   HY  \n",
              "0       510.466115   1       1   66                16  3.0  \n",
              "1       510.466115   1       1   66                16  3.0  \n",
              "2       510.466115   1       1   66                16  3.0  \n",
              "3       510.466115   1       1   66                16  3.0  \n",
              "4       510.466115   1       1   66                16  3.0  \n",
              "\n",
              "[5 rows x 43 columns]"
            ],
            "text/html": [
              "\n",
              "  <div id=\"df-5e81d426-210c-4bab-bd56-2b2225c855ed\">\n",
              "    <div class=\"colab-df-container\">\n",
              "      <div>\n",
              "<style scoped>\n",
              "    .dataframe tbody tr th:only-of-type {\n",
              "        vertical-align: middle;\n",
              "    }\n",
              "\n",
              "    .dataframe tbody tr th {\n",
              "        vertical-align: top;\n",
              "    }\n",
              "\n",
              "    .dataframe thead th {\n",
              "        text-align: right;\n",
              "    }\n",
              "</style>\n",
              "<table border=\"1\" class=\"dataframe\">\n",
              "  <thead>\n",
              "    <tr style=\"text-align: right;\">\n",
              "      <th></th>\n",
              "      <th>time</th>\n",
              "      <th>ank_hor_fwd</th>\n",
              "      <th>ank_vert</th>\n",
              "      <th>ank_hor_lat</th>\n",
              "      <th>leg_hor_fwd</th>\n",
              "      <th>leg_vert</th>\n",
              "      <th>leg_hor_lat</th>\n",
              "      <th>trunk_hor_fwd</th>\n",
              "      <th>trunk_vert</th>\n",
              "      <th>trunk_hor_lat</th>\n",
              "      <th>...</th>\n",
              "      <th>ank_hor_fwd_var</th>\n",
              "      <th>trunk_vert_var</th>\n",
              "      <th>leg_hor_lat_var</th>\n",
              "      <th>ank_vert_var</th>\n",
              "      <th>ank_hor_lat_var</th>\n",
              "      <th>id</th>\n",
              "      <th>gender</th>\n",
              "      <th>age</th>\n",
              "      <th>disease_duration</th>\n",
              "      <th>HY</th>\n",
              "    </tr>\n",
              "  </thead>\n",
              "  <tbody>\n",
              "    <tr>\n",
              "      <th>0</th>\n",
              "      <td>750000</td>\n",
              "      <td>-30</td>\n",
              "      <td>990</td>\n",
              "      <td>326</td>\n",
              "      <td>-45</td>\n",
              "      <td>972</td>\n",
              "      <td>181</td>\n",
              "      <td>-38</td>\n",
              "      <td>1000</td>\n",
              "      <td>29</td>\n",
              "      <td>...</td>\n",
              "      <td>1235.714078</td>\n",
              "      <td>377.922656</td>\n",
              "      <td>523.229167</td>\n",
              "      <td>232.015625</td>\n",
              "      <td>510.466115</td>\n",
              "      <td>1</td>\n",
              "      <td>1</td>\n",
              "      <td>66</td>\n",
              "      <td>16</td>\n",
              "      <td>3.0</td>\n",
              "    </tr>\n",
              "    <tr>\n",
              "      <th>1</th>\n",
              "      <td>750015</td>\n",
              "      <td>-30</td>\n",
              "      <td>1000</td>\n",
              "      <td>356</td>\n",
              "      <td>-18</td>\n",
              "      <td>981</td>\n",
              "      <td>212</td>\n",
              "      <td>-48</td>\n",
              "      <td>1028</td>\n",
              "      <td>29</td>\n",
              "      <td>...</td>\n",
              "      <td>1235.714078</td>\n",
              "      <td>377.922656</td>\n",
              "      <td>523.229167</td>\n",
              "      <td>232.015625</td>\n",
              "      <td>510.466115</td>\n",
              "      <td>1</td>\n",
              "      <td>1</td>\n",
              "      <td>66</td>\n",
              "      <td>16</td>\n",
              "      <td>3.0</td>\n",
              "    </tr>\n",
              "    <tr>\n",
              "      <th>2</th>\n",
              "      <td>750031</td>\n",
              "      <td>-20</td>\n",
              "      <td>990</td>\n",
              "      <td>336</td>\n",
              "      <td>18</td>\n",
              "      <td>981</td>\n",
              "      <td>222</td>\n",
              "      <td>-38</td>\n",
              "      <td>1038</td>\n",
              "      <td>9</td>\n",
              "      <td>...</td>\n",
              "      <td>1235.714078</td>\n",
              "      <td>377.922656</td>\n",
              "      <td>523.229167</td>\n",
              "      <td>232.015625</td>\n",
              "      <td>510.466115</td>\n",
              "      <td>1</td>\n",
              "      <td>1</td>\n",
              "      <td>66</td>\n",
              "      <td>16</td>\n",
              "      <td>3.0</td>\n",
              "    </tr>\n",
              "    <tr>\n",
              "      <th>3</th>\n",
              "      <td>750046</td>\n",
              "      <td>-20</td>\n",
              "      <td>1000</td>\n",
              "      <td>316</td>\n",
              "      <td>36</td>\n",
              "      <td>990</td>\n",
              "      <td>222</td>\n",
              "      <td>-19</td>\n",
              "      <td>1038</td>\n",
              "      <td>9</td>\n",
              "      <td>...</td>\n",
              "      <td>1235.714078</td>\n",
              "      <td>377.922656</td>\n",
              "      <td>523.229167</td>\n",
              "      <td>232.015625</td>\n",
              "      <td>510.466115</td>\n",
              "      <td>1</td>\n",
              "      <td>1</td>\n",
              "      <td>66</td>\n",
              "      <td>16</td>\n",
              "      <td>3.0</td>\n",
              "    </tr>\n",
              "    <tr>\n",
              "      <th>4</th>\n",
              "      <td>750062</td>\n",
              "      <td>0</td>\n",
              "      <td>990</td>\n",
              "      <td>316</td>\n",
              "      <td>36</td>\n",
              "      <td>990</td>\n",
              "      <td>212</td>\n",
              "      <td>-29</td>\n",
              "      <td>1038</td>\n",
              "      <td>29</td>\n",
              "      <td>...</td>\n",
              "      <td>1235.714078</td>\n",
              "      <td>377.922656</td>\n",
              "      <td>523.229167</td>\n",
              "      <td>232.015625</td>\n",
              "      <td>510.466115</td>\n",
              "      <td>1</td>\n",
              "      <td>1</td>\n",
              "      <td>66</td>\n",
              "      <td>16</td>\n",
              "      <td>3.0</td>\n",
              "    </tr>\n",
              "  </tbody>\n",
              "</table>\n",
              "<p>5 rows × 43 columns</p>\n",
              "</div>\n",
              "      <button class=\"colab-df-convert\" onclick=\"convertToInteractive('df-5e81d426-210c-4bab-bd56-2b2225c855ed')\"\n",
              "              title=\"Convert this dataframe to an interactive table.\"\n",
              "              style=\"display:none;\">\n",
              "        \n",
              "  <svg xmlns=\"http://www.w3.org/2000/svg\" height=\"24px\"viewBox=\"0 0 24 24\"\n",
              "       width=\"24px\">\n",
              "    <path d=\"M0 0h24v24H0V0z\" fill=\"none\"/>\n",
              "    <path d=\"M18.56 5.44l.94 2.06.94-2.06 2.06-.94-2.06-.94-.94-2.06-.94 2.06-2.06.94zm-11 1L8.5 8.5l.94-2.06 2.06-.94-2.06-.94L8.5 2.5l-.94 2.06-2.06.94zm10 10l.94 2.06.94-2.06 2.06-.94-2.06-.94-.94-2.06-.94 2.06-2.06.94z\"/><path d=\"M17.41 7.96l-1.37-1.37c-.4-.4-.92-.59-1.43-.59-.52 0-1.04.2-1.43.59L10.3 9.45l-7.72 7.72c-.78.78-.78 2.05 0 2.83L4 21.41c.39.39.9.59 1.41.59.51 0 1.02-.2 1.41-.59l7.78-7.78 2.81-2.81c.8-.78.8-2.07 0-2.86zM5.41 20L4 18.59l7.72-7.72 1.47 1.35L5.41 20z\"/>\n",
              "  </svg>\n",
              "      </button>\n",
              "      \n",
              "  <style>\n",
              "    .colab-df-container {\n",
              "      display:flex;\n",
              "      flex-wrap:wrap;\n",
              "      gap: 12px;\n",
              "    }\n",
              "\n",
              "    .colab-df-convert {\n",
              "      background-color: #E8F0FE;\n",
              "      border: none;\n",
              "      border-radius: 50%;\n",
              "      cursor: pointer;\n",
              "      display: none;\n",
              "      fill: #1967D2;\n",
              "      height: 32px;\n",
              "      padding: 0 0 0 0;\n",
              "      width: 32px;\n",
              "    }\n",
              "\n",
              "    .colab-df-convert:hover {\n",
              "      background-color: #E2EBFA;\n",
              "      box-shadow: 0px 1px 2px rgba(60, 64, 67, 0.3), 0px 1px 3px 1px rgba(60, 64, 67, 0.15);\n",
              "      fill: #174EA6;\n",
              "    }\n",
              "\n",
              "    [theme=dark] .colab-df-convert {\n",
              "      background-color: #3B4455;\n",
              "      fill: #D2E3FC;\n",
              "    }\n",
              "\n",
              "    [theme=dark] .colab-df-convert:hover {\n",
              "      background-color: #434B5C;\n",
              "      box-shadow: 0px 1px 3px 1px rgba(0, 0, 0, 0.15);\n",
              "      filter: drop-shadow(0px 1px 2px rgba(0, 0, 0, 0.3));\n",
              "      fill: #FFFFFF;\n",
              "    }\n",
              "  </style>\n",
              "\n",
              "      <script>\n",
              "        const buttonEl =\n",
              "          document.querySelector('#df-5e81d426-210c-4bab-bd56-2b2225c855ed button.colab-df-convert');\n",
              "        buttonEl.style.display =\n",
              "          google.colab.kernel.accessAllowed ? 'block' : 'none';\n",
              "\n",
              "        async function convertToInteractive(key) {\n",
              "          const element = document.querySelector('#df-5e81d426-210c-4bab-bd56-2b2225c855ed');\n",
              "          const dataTable =\n",
              "            await google.colab.kernel.invokeFunction('convertToInteractive',\n",
              "                                                     [key], {});\n",
              "          if (!dataTable) return;\n",
              "\n",
              "          const docLinkHtml = 'Like what you see? Visit the ' +\n",
              "            '<a target=\"_blank\" href=https://colab.research.google.com/notebooks/data_table.ipynb>data table notebook</a>'\n",
              "            + ' to learn more about interactive tables.';\n",
              "          element.innerHTML = '';\n",
              "          dataTable['output_type'] = 'display_data';\n",
              "          await google.colab.output.renderOutput(dataTable, element);\n",
              "          const docLink = document.createElement('div');\n",
              "          docLink.innerHTML = docLinkHtml;\n",
              "          element.appendChild(docLink);\n",
              "        }\n",
              "      </script>\n",
              "    </div>\n",
              "  </div>\n",
              "  "
            ]
          },
          "metadata": {},
          "execution_count": 22
        }
      ],
      "source": [
        "all_df_no_outliers = all_df_no_outliers.merge(subject_df, on=['id'], how='inner')\n",
        "all_df_no_outliers = all_df_no_outliers.apply(pd.to_numeric)\n",
        "print(all_df_no_outliers.info())\n",
        "all_df_no_outliers.head()"
      ]
    },
    {
      "cell_type": "code",
      "source": [
        "all_df_no_outliers.describe()"
      ],
      "metadata": {
        "colab": {
          "base_uri": "https://localhost:8080/",
          "height": 394
        },
        "id": "q00XhiAdijvK",
        "outputId": "3359cd30-a9d8-40b6-f5aa-305249e562f5"
      },
      "id": "q00XhiAdijvK",
      "execution_count": 37,
      "outputs": [
        {
          "output_type": "execute_result",
          "data": {
            "text/plain": [
              "               time    ank_hor_fwd       ank_vert    ank_hor_lat  \\\n",
              "count  8.455980e+05  845598.000000  845598.000000  845598.000000   \n",
              "mean   1.270765e+06     -95.531470     980.979670     248.131872   \n",
              "std    6.045876e+05     308.663169     179.246152     145.127858   \n",
              "min    1.850000e+05   -2505.000000      58.000000    -693.000000   \n",
              "25%    7.943000e+05    -272.000000     931.000000     158.000000   \n",
              "50%    1.176304e+06     -70.000000    1000.000000     237.000000   \n",
              "75%    1.726230e+06     111.000000    1029.000000     326.000000   \n",
              "max    2.930000e+06    2454.000000    2617.000000    1158.000000   \n",
              "\n",
              "         leg_hor_fwd       leg_vert    leg_hor_lat  trunk_hor_fwd  \\\n",
              "count  845598.000000  845598.000000  845598.000000  845598.000000   \n",
              "mean       -1.143533     792.371693     158.894967      56.985701   \n",
              "std       495.637246     278.602629     188.029635     175.525251   \n",
              "min     -1300.000000      -9.000000    -969.000000    -504.000000   \n",
              "25%      -263.000000     509.000000      50.000000     -67.000000   \n",
              "50%       -45.000000     935.000000     151.000000      38.000000   \n",
              "75%       254.000000     981.000000     252.000000     165.000000   \n",
              "max      1663.000000    1824.000000     808.000000     766.000000   \n",
              "\n",
              "          trunk_vert  trunk_hor_lat  ...  ank_hor_fwd_var  trunk_vert_var  \\\n",
              "count  845598.000000  845598.000000  ...    845598.000000   845598.000000   \n",
              "mean      975.422696      25.217556  ...     32160.043532     5059.163561   \n",
              "std        83.173498     185.712816  ...     52888.594765     8514.682157   \n",
              "min       171.000000    -475.000000  ...      -565.000000        0.000000   \n",
              "25%       933.000000    -106.000000  ...        98.725490       96.220768   \n",
              "50%       980.000000      -9.000000  ...      7508.725645     1991.599373   \n",
              "75%      1009.000000     126.000000  ...     40203.003701     6264.325736   \n",
              "max      1580.000000     592.000000  ...    362060.732964   113764.500000   \n",
              "\n",
              "       leg_hor_lat_var   ank_vert_var  ank_hor_lat_var             id  \\\n",
              "count    845598.000000  845598.000000    845598.000000  845598.000000   \n",
              "mean       9475.403152   25196.470425      7998.953905       5.393391   \n",
              "std       13018.741052   40907.344876     12124.886005       2.864263   \n",
              "min        -969.000000       0.000000         0.000000       1.000000   \n",
              "25%         167.252551      98.454350       141.971507       3.000000   \n",
              "50%        3811.123498    2433.556108      2899.008378       5.000000   \n",
              "75%       13769.283315   39443.570369     11628.280092       8.000000   \n",
              "max      116411.776224  316930.334482    175078.002194      10.000000   \n",
              "\n",
              "              gender            age  disease_duration             HY  \n",
              "count  845598.000000  845598.000000     845598.000000  845598.000000  \n",
              "mean        0.727651      66.340432         13.566200       2.529871  \n",
              "std         0.445169       4.783262          9.348087       0.539741  \n",
              "min         0.000000      59.000000          2.000000       2.000000  \n",
              "25%         0.000000      63.000000          6.000000       2.000000  \n",
              "50%         1.000000      66.000000          9.000000       2.500000  \n",
              "75%         1.000000      68.000000         22.000000       3.000000  \n",
              "max         1.000000      75.000000         30.000000       4.000000  \n",
              "\n",
              "[8 rows x 43 columns]"
            ],
            "text/html": [
              "\n",
              "  <div id=\"df-30a5a91f-c977-4000-9fff-f19097bc7f12\">\n",
              "    <div class=\"colab-df-container\">\n",
              "      <div>\n",
              "<style scoped>\n",
              "    .dataframe tbody tr th:only-of-type {\n",
              "        vertical-align: middle;\n",
              "    }\n",
              "\n",
              "    .dataframe tbody tr th {\n",
              "        vertical-align: top;\n",
              "    }\n",
              "\n",
              "    .dataframe thead th {\n",
              "        text-align: right;\n",
              "    }\n",
              "</style>\n",
              "<table border=\"1\" class=\"dataframe\">\n",
              "  <thead>\n",
              "    <tr style=\"text-align: right;\">\n",
              "      <th></th>\n",
              "      <th>time</th>\n",
              "      <th>ank_hor_fwd</th>\n",
              "      <th>ank_vert</th>\n",
              "      <th>ank_hor_lat</th>\n",
              "      <th>leg_hor_fwd</th>\n",
              "      <th>leg_vert</th>\n",
              "      <th>leg_hor_lat</th>\n",
              "      <th>trunk_hor_fwd</th>\n",
              "      <th>trunk_vert</th>\n",
              "      <th>trunk_hor_lat</th>\n",
              "      <th>...</th>\n",
              "      <th>ank_hor_fwd_var</th>\n",
              "      <th>trunk_vert_var</th>\n",
              "      <th>leg_hor_lat_var</th>\n",
              "      <th>ank_vert_var</th>\n",
              "      <th>ank_hor_lat_var</th>\n",
              "      <th>id</th>\n",
              "      <th>gender</th>\n",
              "      <th>age</th>\n",
              "      <th>disease_duration</th>\n",
              "      <th>HY</th>\n",
              "    </tr>\n",
              "  </thead>\n",
              "  <tbody>\n",
              "    <tr>\n",
              "      <th>count</th>\n",
              "      <td>8.455980e+05</td>\n",
              "      <td>845598.000000</td>\n",
              "      <td>845598.000000</td>\n",
              "      <td>845598.000000</td>\n",
              "      <td>845598.000000</td>\n",
              "      <td>845598.000000</td>\n",
              "      <td>845598.000000</td>\n",
              "      <td>845598.000000</td>\n",
              "      <td>845598.000000</td>\n",
              "      <td>845598.000000</td>\n",
              "      <td>...</td>\n",
              "      <td>845598.000000</td>\n",
              "      <td>845598.000000</td>\n",
              "      <td>845598.000000</td>\n",
              "      <td>845598.000000</td>\n",
              "      <td>845598.000000</td>\n",
              "      <td>845598.000000</td>\n",
              "      <td>845598.000000</td>\n",
              "      <td>845598.000000</td>\n",
              "      <td>845598.000000</td>\n",
              "      <td>845598.000000</td>\n",
              "    </tr>\n",
              "    <tr>\n",
              "      <th>mean</th>\n",
              "      <td>1.270765e+06</td>\n",
              "      <td>-95.531470</td>\n",
              "      <td>980.979670</td>\n",
              "      <td>248.131872</td>\n",
              "      <td>-1.143533</td>\n",
              "      <td>792.371693</td>\n",
              "      <td>158.894967</td>\n",
              "      <td>56.985701</td>\n",
              "      <td>975.422696</td>\n",
              "      <td>25.217556</td>\n",
              "      <td>...</td>\n",
              "      <td>32160.043532</td>\n",
              "      <td>5059.163561</td>\n",
              "      <td>9475.403152</td>\n",
              "      <td>25196.470425</td>\n",
              "      <td>7998.953905</td>\n",
              "      <td>5.393391</td>\n",
              "      <td>0.727651</td>\n",
              "      <td>66.340432</td>\n",
              "      <td>13.566200</td>\n",
              "      <td>2.529871</td>\n",
              "    </tr>\n",
              "    <tr>\n",
              "      <th>std</th>\n",
              "      <td>6.045876e+05</td>\n",
              "      <td>308.663169</td>\n",
              "      <td>179.246152</td>\n",
              "      <td>145.127858</td>\n",
              "      <td>495.637246</td>\n",
              "      <td>278.602629</td>\n",
              "      <td>188.029635</td>\n",
              "      <td>175.525251</td>\n",
              "      <td>83.173498</td>\n",
              "      <td>185.712816</td>\n",
              "      <td>...</td>\n",
              "      <td>52888.594765</td>\n",
              "      <td>8514.682157</td>\n",
              "      <td>13018.741052</td>\n",
              "      <td>40907.344876</td>\n",
              "      <td>12124.886005</td>\n",
              "      <td>2.864263</td>\n",
              "      <td>0.445169</td>\n",
              "      <td>4.783262</td>\n",
              "      <td>9.348087</td>\n",
              "      <td>0.539741</td>\n",
              "    </tr>\n",
              "    <tr>\n",
              "      <th>min</th>\n",
              "      <td>1.850000e+05</td>\n",
              "      <td>-2505.000000</td>\n",
              "      <td>58.000000</td>\n",
              "      <td>-693.000000</td>\n",
              "      <td>-1300.000000</td>\n",
              "      <td>-9.000000</td>\n",
              "      <td>-969.000000</td>\n",
              "      <td>-504.000000</td>\n",
              "      <td>171.000000</td>\n",
              "      <td>-475.000000</td>\n",
              "      <td>...</td>\n",
              "      <td>-565.000000</td>\n",
              "      <td>0.000000</td>\n",
              "      <td>-969.000000</td>\n",
              "      <td>0.000000</td>\n",
              "      <td>0.000000</td>\n",
              "      <td>1.000000</td>\n",
              "      <td>0.000000</td>\n",
              "      <td>59.000000</td>\n",
              "      <td>2.000000</td>\n",
              "      <td>2.000000</td>\n",
              "    </tr>\n",
              "    <tr>\n",
              "      <th>25%</th>\n",
              "      <td>7.943000e+05</td>\n",
              "      <td>-272.000000</td>\n",
              "      <td>931.000000</td>\n",
              "      <td>158.000000</td>\n",
              "      <td>-263.000000</td>\n",
              "      <td>509.000000</td>\n",
              "      <td>50.000000</td>\n",
              "      <td>-67.000000</td>\n",
              "      <td>933.000000</td>\n",
              "      <td>-106.000000</td>\n",
              "      <td>...</td>\n",
              "      <td>98.725490</td>\n",
              "      <td>96.220768</td>\n",
              "      <td>167.252551</td>\n",
              "      <td>98.454350</td>\n",
              "      <td>141.971507</td>\n",
              "      <td>3.000000</td>\n",
              "      <td>0.000000</td>\n",
              "      <td>63.000000</td>\n",
              "      <td>6.000000</td>\n",
              "      <td>2.000000</td>\n",
              "    </tr>\n",
              "    <tr>\n",
              "      <th>50%</th>\n",
              "      <td>1.176304e+06</td>\n",
              "      <td>-70.000000</td>\n",
              "      <td>1000.000000</td>\n",
              "      <td>237.000000</td>\n",
              "      <td>-45.000000</td>\n",
              "      <td>935.000000</td>\n",
              "      <td>151.000000</td>\n",
              "      <td>38.000000</td>\n",
              "      <td>980.000000</td>\n",
              "      <td>-9.000000</td>\n",
              "      <td>...</td>\n",
              "      <td>7508.725645</td>\n",
              "      <td>1991.599373</td>\n",
              "      <td>3811.123498</td>\n",
              "      <td>2433.556108</td>\n",
              "      <td>2899.008378</td>\n",
              "      <td>5.000000</td>\n",
              "      <td>1.000000</td>\n",
              "      <td>66.000000</td>\n",
              "      <td>9.000000</td>\n",
              "      <td>2.500000</td>\n",
              "    </tr>\n",
              "    <tr>\n",
              "      <th>75%</th>\n",
              "      <td>1.726230e+06</td>\n",
              "      <td>111.000000</td>\n",
              "      <td>1029.000000</td>\n",
              "      <td>326.000000</td>\n",
              "      <td>254.000000</td>\n",
              "      <td>981.000000</td>\n",
              "      <td>252.000000</td>\n",
              "      <td>165.000000</td>\n",
              "      <td>1009.000000</td>\n",
              "      <td>126.000000</td>\n",
              "      <td>...</td>\n",
              "      <td>40203.003701</td>\n",
              "      <td>6264.325736</td>\n",
              "      <td>13769.283315</td>\n",
              "      <td>39443.570369</td>\n",
              "      <td>11628.280092</td>\n",
              "      <td>8.000000</td>\n",
              "      <td>1.000000</td>\n",
              "      <td>68.000000</td>\n",
              "      <td>22.000000</td>\n",
              "      <td>3.000000</td>\n",
              "    </tr>\n",
              "    <tr>\n",
              "      <th>max</th>\n",
              "      <td>2.930000e+06</td>\n",
              "      <td>2454.000000</td>\n",
              "      <td>2617.000000</td>\n",
              "      <td>1158.000000</td>\n",
              "      <td>1663.000000</td>\n",
              "      <td>1824.000000</td>\n",
              "      <td>808.000000</td>\n",
              "      <td>766.000000</td>\n",
              "      <td>1580.000000</td>\n",
              "      <td>592.000000</td>\n",
              "      <td>...</td>\n",
              "      <td>362060.732964</td>\n",
              "      <td>113764.500000</td>\n",
              "      <td>116411.776224</td>\n",
              "      <td>316930.334482</td>\n",
              "      <td>175078.002194</td>\n",
              "      <td>10.000000</td>\n",
              "      <td>1.000000</td>\n",
              "      <td>75.000000</td>\n",
              "      <td>30.000000</td>\n",
              "      <td>4.000000</td>\n",
              "    </tr>\n",
              "  </tbody>\n",
              "</table>\n",
              "<p>8 rows × 43 columns</p>\n",
              "</div>\n",
              "      <button class=\"colab-df-convert\" onclick=\"convertToInteractive('df-30a5a91f-c977-4000-9fff-f19097bc7f12')\"\n",
              "              title=\"Convert this dataframe to an interactive table.\"\n",
              "              style=\"display:none;\">\n",
              "        \n",
              "  <svg xmlns=\"http://www.w3.org/2000/svg\" height=\"24px\"viewBox=\"0 0 24 24\"\n",
              "       width=\"24px\">\n",
              "    <path d=\"M0 0h24v24H0V0z\" fill=\"none\"/>\n",
              "    <path d=\"M18.56 5.44l.94 2.06.94-2.06 2.06-.94-2.06-.94-.94-2.06-.94 2.06-2.06.94zm-11 1L8.5 8.5l.94-2.06 2.06-.94-2.06-.94L8.5 2.5l-.94 2.06-2.06.94zm10 10l.94 2.06.94-2.06 2.06-.94-2.06-.94-.94-2.06-.94 2.06-2.06.94z\"/><path d=\"M17.41 7.96l-1.37-1.37c-.4-.4-.92-.59-1.43-.59-.52 0-1.04.2-1.43.59L10.3 9.45l-7.72 7.72c-.78.78-.78 2.05 0 2.83L4 21.41c.39.39.9.59 1.41.59.51 0 1.02-.2 1.41-.59l7.78-7.78 2.81-2.81c.8-.78.8-2.07 0-2.86zM5.41 20L4 18.59l7.72-7.72 1.47 1.35L5.41 20z\"/>\n",
              "  </svg>\n",
              "      </button>\n",
              "      \n",
              "  <style>\n",
              "    .colab-df-container {\n",
              "      display:flex;\n",
              "      flex-wrap:wrap;\n",
              "      gap: 12px;\n",
              "    }\n",
              "\n",
              "    .colab-df-convert {\n",
              "      background-color: #E8F0FE;\n",
              "      border: none;\n",
              "      border-radius: 50%;\n",
              "      cursor: pointer;\n",
              "      display: none;\n",
              "      fill: #1967D2;\n",
              "      height: 32px;\n",
              "      padding: 0 0 0 0;\n",
              "      width: 32px;\n",
              "    }\n",
              "\n",
              "    .colab-df-convert:hover {\n",
              "      background-color: #E2EBFA;\n",
              "      box-shadow: 0px 1px 2px rgba(60, 64, 67, 0.3), 0px 1px 3px 1px rgba(60, 64, 67, 0.15);\n",
              "      fill: #174EA6;\n",
              "    }\n",
              "\n",
              "    [theme=dark] .colab-df-convert {\n",
              "      background-color: #3B4455;\n",
              "      fill: #D2E3FC;\n",
              "    }\n",
              "\n",
              "    [theme=dark] .colab-df-convert:hover {\n",
              "      background-color: #434B5C;\n",
              "      box-shadow: 0px 1px 3px 1px rgba(0, 0, 0, 0.15);\n",
              "      filter: drop-shadow(0px 1px 2px rgba(0, 0, 0, 0.3));\n",
              "      fill: #FFFFFF;\n",
              "    }\n",
              "  </style>\n",
              "\n",
              "      <script>\n",
              "        const buttonEl =\n",
              "          document.querySelector('#df-30a5a91f-c977-4000-9fff-f19097bc7f12 button.colab-df-convert');\n",
              "        buttonEl.style.display =\n",
              "          google.colab.kernel.accessAllowed ? 'block' : 'none';\n",
              "\n",
              "        async function convertToInteractive(key) {\n",
              "          const element = document.querySelector('#df-30a5a91f-c977-4000-9fff-f19097bc7f12');\n",
              "          const dataTable =\n",
              "            await google.colab.kernel.invokeFunction('convertToInteractive',\n",
              "                                                     [key], {});\n",
              "          if (!dataTable) return;\n",
              "\n",
              "          const docLinkHtml = 'Like what you see? Visit the ' +\n",
              "            '<a target=\"_blank\" href=https://colab.research.google.com/notebooks/data_table.ipynb>data table notebook</a>'\n",
              "            + ' to learn more about interactive tables.';\n",
              "          element.innerHTML = '';\n",
              "          dataTable['output_type'] = 'display_data';\n",
              "          await google.colab.output.renderOutput(dataTable, element);\n",
              "          const docLink = document.createElement('div');\n",
              "          docLink.innerHTML = docLinkHtml;\n",
              "          element.appendChild(docLink);\n",
              "        }\n",
              "      </script>\n",
              "    </div>\n",
              "  </div>\n",
              "  "
            ]
          },
          "metadata": {},
          "execution_count": 37
        }
      ]
    },
    {
      "cell_type": "markdown",
      "id": "4a2aa75b",
      "metadata": {
        "id": "4a2aa75b"
      },
      "source": [
        "# Train Test Split"
      ]
    },
    {
      "cell_type": "code",
      "execution_count": 23,
      "id": "032002f3",
      "metadata": {
        "colab": {
          "base_uri": "https://localhost:8080/",
          "height": 519
        },
        "id": "032002f3",
        "outputId": "3127b52f-53d1-4404-83f6-18952704cb46"
      },
      "outputs": [
        {
          "output_type": "execute_result",
          "data": {
            "text/plain": [
              "<matplotlib.axes._subplots.AxesSubplot at 0x7fda2bb0a510>"
            ]
          },
          "metadata": {},
          "execution_count": 23
        },
        {
          "output_type": "display_data",
          "data": {
            "text/plain": [
              "<Figure size 1296x576 with 1 Axes>"
            ],
            "image/png": "[encoded data removed]"
          },
          "metadata": {}
        }
      ],
      "source": [
        "freq_plot1=all_df.filter(items=['id', 'label'])\n",
        "freq_plot1=freq_plot1.groupby(['id'])['label'].agg(counts='value_counts').reset_index()\n",
        "sns.set(rc={'figure.figsize':(18,8)})\n",
        "sns.barplot(data = freq_plot1, x = 'id', y = 'counts', hue = 'label', ci = None)"
      ]
    },
    {
      "cell_type": "code",
      "execution_count": 24,
      "id": "29931caa",
      "metadata": {
        "colab": {
          "base_uri": "https://localhost:8080/",
          "height": 523
        },
        "id": "29931caa",
        "outputId": "11cdbd56-b11f-4d78-c6bc-801b12f95981"
      },
      "outputs": [
        {
          "output_type": "execute_result",
          "data": {
            "text/plain": [
              "<matplotlib.axes._subplots.AxesSubplot at 0x7fda2bbaf1d0>"
            ]
          },
          "metadata": {},
          "execution_count": 24
        },
        {
          "output_type": "display_data",
          "data": {
            "text/plain": [
              "<Figure size 1296x576 with 1 Axes>"
            ],
            "image/png": "[encoded data removed]"
          },
          "metadata": {}
        }
      ],
      "source": [
        "subject_df.plot(x=\"id\", y=[\"age\", 'disease_duration', 'HY'], kind=\"bar\")"
      ]
    },
    {
      "cell_type": "markdown",
      "id": "94287392",
      "metadata": {
        "id": "94287392"
      },
      "source": [
        "I would like to choose a subject to be my test subject. In the study report they concluded that 4 and 10 have the best predictions (but they dont have FOG measurements so thats very biased) Also, The worst results were of subjects 1 and 8. In this case, subject 2 seems pretty average and would be a good choice for vlaidation. At the end, i will need to cross validate my model for each subject in the left one out method (train on 9, test on 1), to ensure that my model is capable of handling all kinds of data."
      ]
    },
    {
      "cell_type": "code",
      "execution_count": 25,
      "id": "d10a2f5a",
      "metadata": {
        "id": "d10a2f5a",
        "colab": {
          "base_uri": "https://localhost:8080/"
        },
        "outputId": "09206936-a5b4-4993-e35f-9a52805b7501"
      },
      "outputs": [
        {
          "output_type": "stream",
          "name": "stdout",
          "text": [
            "{2} {1, 3, 4, 5, 6, 7, 8, 9, 10}\n"
          ]
        }
      ],
      "source": [
        "test_subjs = set([2])\n",
        "train_subjs = set(subject_df['id']) - test_subjs\n",
        "print(test_subjs, train_subjs)"
      ]
    },
    {
      "cell_type": "code",
      "execution_count": 26,
      "id": "6255df8c",
      "metadata": {
        "id": "6255df8c"
      },
      "outputs": [],
      "source": [
        "test_df = all_df[all_df['id']==list(test_subjs)[0]]\n",
        "train_df = all_df[all_df['id'].isin(train_subjs)]"
      ]
    },
    {
      "cell_type": "code",
      "execution_count": 27,
      "id": "5262618e",
      "metadata": {
        "id": "5262618e"
      },
      "outputs": [],
      "source": [
        "X_train = train_df.drop(['time', 'label','id'], axis=1)\n",
        "y_train = train_df['label']\n",
        "\n",
        "X_test = test_df.drop(['time', 'label','id'], axis=1)\n",
        "y_test = test_df['label']"
      ]
    },
    {
      "cell_type": "markdown",
      "id": "4f87c9f9",
      "metadata": {
        "id": "4f87c9f9"
      },
      "source": [
        "# Handling Unbalanced Data"
      ]
    },
    {
      "cell_type": "markdown",
      "id": "f50f44ac",
      "metadata": {
        "id": "f50f44ac"
      },
      "source": [
        "We can see below that the data is highly imbalanced."
      ]
    },
    {
      "cell_type": "code",
      "execution_count": 28,
      "id": "03819f8e",
      "metadata": {
        "colab": {
          "base_uri": "https://localhost:8080/",
          "height": 499
        },
        "id": "03819f8e",
        "outputId": "a0408beb-5255-47a7-9949-5f09708a0376"
      },
      "outputs": [
        {
          "output_type": "execute_result",
          "data": {
            "text/plain": [
              "<matplotlib.axes._subplots.AxesSubplot at 0x7fda2bd62350>"
            ]
          },
          "metadata": {},
          "execution_count": 28
        },
        {
          "output_type": "display_data",
          "data": {
            "text/plain": [
              "<Figure size 1296x576 with 1 Axes>"
            ],
            "image/png": "[encoded data removed]"
          },
          "metadata": {}
        }
      ],
      "source": [
        "y_train.value_counts().plot.bar()"
      ]
    },
    {
      "cell_type": "markdown",
      "id": "bf51c586",
      "metadata": {
        "id": "bf51c586"
      },
      "source": [
        "To solve that, whe can use an oversampling algorithm to balance the dataset."
      ]
    },
    {
      "cell_type": "code",
      "execution_count": 29,
      "id": "370617a8",
      "metadata": {
        "id": "370617a8"
      },
      "outputs": [],
      "source": [
        "oversample = imblearn.over_sampling.SMOTE(sampling_strategy='minority')"
      ]
    },
    {
      "cell_type": "code",
      "execution_count": 30,
      "id": "b01c3bc1",
      "metadata": {
        "id": "b01c3bc1"
      },
      "outputs": [],
      "source": [
        "X_over, y_over = oversample.fit_resample(X_train, y_train)"
      ]
    },
    {
      "cell_type": "code",
      "execution_count": 31,
      "id": "7472f94e",
      "metadata": {
        "colab": {
          "base_uri": "https://localhost:8080/",
          "height": 499
        },
        "id": "7472f94e",
        "outputId": "b6391309-0f87-45fd-a042-67a4d2f24172"
      },
      "outputs": [
        {
          "output_type": "execute_result",
          "data": {
            "text/plain": [
              "<matplotlib.axes._subplots.AxesSubplot at 0x7fda2bdaab90>"
            ]
          },
          "metadata": {},
          "execution_count": 31
        },
        {
          "output_type": "display_data",
          "data": {
            "text/plain": [
              "<Figure size 1296x576 with 1 Axes>"
            ],
            "image/png": "[encoded data removed]"
          },
          "metadata": {}
        }
      ],
      "source": [
        "y_over.value_counts().plot.bar()"
      ]
    },
    {
      "cell_type": "markdown",
      "id": "ecfecd10",
      "metadata": {
        "id": "ecfecd10"
      },
      "source": [
        "# Weighted XGBoost Classifier"
      ]
    },
    {
      "cell_type": "markdown",
      "id": "126ac441",
      "metadata": {
        "id": "126ac441"
      },
      "source": [
        "Since we are mostly interested in recall and percision, we should use f score as our metric. We can define a custom error metric for the model, which will be 1-f_score"
      ]
    },
    {
      "cell_type": "markdown",
      "id": "8a1a578a",
      "metadata": {
        "id": "8a1a578a"
      },
      "source": [
        "Before fitting my Xgboost classifier, ill try to use cross validation to find the optimal weight parameter. Ill try to choose between my default calculated weight and some other variations."
      ]
    },
    {
      "cell_type": "code",
      "execution_count": 32,
      "id": "52140311",
      "metadata": {
        "colab": {
          "base_uri": "https://localhost:8080/"
        },
        "id": "52140311",
        "outputId": "77601201-8ed7-4389-83bf-62587b8cf4a4"
      },
      "outputs": [
        {
          "output_type": "stream",
          "name": "stdout",
          "text": [
            "Fitting 2 folds for each of 3 candidates, totalling 6 fits\n",
            "Best: 0.820404 using {'scale_pos_weight': 1}\n"
          ]
        }
      ],
      "source": [
        "best_weight = find_best_weight(X_over, y_over)"
      ]
    },
    {
      "cell_type": "markdown",
      "id": "b82150c0",
      "metadata": {
        "id": "b82150c0"
      },
      "source": [
        "Now, lets fully train our model with the best weight we found using the cross validation."
      ]
    },
    {
      "cell_type": "code",
      "execution_count": 42,
      "id": "ed306c49",
      "metadata": {
        "id": "ed306c49"
      },
      "outputs": [],
      "source": [
        "xg_cls = xgb.XGBClassifier(objective='binary:logistic', learning_rate = 0.1,\n",
        "               n_estimators = 100, nthread=8, scale_pos_weight=best_weight, booster='gbtree', tree_method='gpu_hist', gpu_id=0)\n",
        "xg_cls.fit(X_over, y_over, eval_metric=f1_eval,eval_set=[(X_over, y_over), (X_test, y_test)],  \n",
        "           verbose=False, early_stopping_rounds=10)\n",
        "results = xg_cls.evals_result()"
      ]
    },
    {
      "cell_type": "code",
      "execution_count": 43,
      "id": "cde03e62",
      "metadata": {
        "colab": {
          "base_uri": "https://localhost:8080/"
        },
        "id": "cde03e62",
        "outputId": "e9a9afb7-13b7-4cf1-a84a-53293358c7ef"
      },
      "outputs": [
        {
          "output_type": "stream",
          "name": "stdout",
          "text": [
            "Total accuracy is 0.40501534860095845\n",
            "Percision score (tp / (tp + fp)) is 0.17412352378896734\n",
            "Recall score (tp / (tp + fn)) is 0.9728658799207511\n",
            "F1 score (2 * (precision * recall) / (precision + recall)) is 0.29537994795412637\n"
          ]
        }
      ],
      "source": [
        "preds = xg_cls.predict(X_test)\n",
        "print_scores(y_test, preds)"
      ]
    },
    {
      "cell_type": "code",
      "execution_count": 44,
      "id": "7dfab8a2",
      "metadata": {
        "colab": {
          "base_uri": "https://localhost:8080/",
          "height": 501
        },
        "id": "7dfab8a2",
        "outputId": "b51bb0ab-5dd3-42eb-e19d-e21021c47a9a"
      },
      "outputs": [
        {
          "output_type": "display_data",
          "data": {
            "text/plain": [
              "<Figure size 1296x576 with 1 Axes>"
            ],
            "image/png": "[encoded data removed]"
          },
          "metadata": {}
        }
      ],
      "source": [
        "plot_training_chart(results, ['f1_err'], train=True)"
      ]
    },
    {
      "cell_type": "code",
      "execution_count": 45,
      "id": "6a86a09b",
      "metadata": {
        "colab": {
          "base_uri": "https://localhost:8080/",
          "height": 571
        },
        "id": "6a86a09b",
        "outputId": "2ebba8fe-634d-498b-e950-0044fb69c94b"
      },
      "outputs": [
        {
          "output_type": "stream",
          "name": "stdout",
          "text": [
            "True positive samples: 11294 (these are the FOG samples we classified FOG)\n",
            "False positive samples: 53568 (these are normal samples we classified as FOG)\n",
            "True negative samples: 25385 (These are the normal samples we classified as normal)\n",
            "False negative samples: 315 (Thses are the FOG samples we classified as normal)\n"
          ]
        },
        {
          "output_type": "display_data",
          "data": {
            "text/plain": [
              "<Figure size 1296x576 with 2 Axes>"
            ],
            "image/png": "[encoded data removed]"
          },
          "metadata": {}
        }
      ],
      "source": [
        "cf_matrix = confusion_matrix(y_test, preds)\n",
        "draw_confusion_matrix(cf_matrix)"
      ]
    },
    {
      "cell_type": "markdown",
      "id": "5c38a061",
      "metadata": {
        "id": "5c38a061"
      },
      "source": [
        "# Weighted XGBoost Classifier + Feature Extraction"
      ]
    },
    {
      "cell_type": "code",
      "execution_count": 46,
      "id": "05548bcf",
      "metadata": {
        "colab": {
          "base_uri": "https://localhost:8080/",
          "height": 518
        },
        "id": "05548bcf",
        "outputId": "22cb9aeb-5b95-47b6-fcbe-d0820cb180a8"
      },
      "outputs": [
        {
          "output_type": "display_data",
          "data": {
            "text/plain": [
              "<Figure size 1296x576 with 1 Axes>"
            ],
            "image/png": "[encoded data removed]"
          },
          "metadata": {}
        }
      ],
      "source": [
        "features = list(X_over.columns)\n",
        "importances = xg_cls.feature_importances_\n",
        "indices = np.argsort(importances)\n",
        "\n",
        "plt.title('Feature Importances')\n",
        "plt.barh(range(len(indices)), importances[indices], color='b', align='center')\n",
        "plt.yticks(range(len(indices)), [features[i] for i in indices])\n",
        "plt.xlabel('Relative Importance')\n",
        "plt.show()"
      ]
    },
    {
      "cell_type": "code",
      "execution_count": 47,
      "id": "c36ce75e",
      "metadata": {
        "id": "c36ce75e"
      },
      "outputs": [],
      "source": [
        "best_20 = [features[i] for i in indices[-20:]]\n",
        "X_train_ext = X_over[best_20]\n",
        "X_test_ext = X_test[best_20]"
      ]
    },
    {
      "cell_type": "code",
      "execution_count": 48,
      "id": "6ef7c593",
      "metadata": {
        "id": "6ef7c593"
      },
      "outputs": [],
      "source": [
        "xg_cls = xgb.XGBClassifier(objective='binary:logistic', learning_rate = 0.1,\n",
        "               n_estimators = 100, nthread=8, scale_pos_weight=best_weight, booster='gbtree', tree_method='gpu_hist', gpu_id=0)\n",
        "xg_cls.fit(X_train_ext, y_over, eval_metric=f1_eval,eval_set=[(X_train_ext, y_over), (X_test_ext, y_test)],  verbose=False, early_stopping_rounds=10)\n",
        "results = xg_cls.evals_result()"
      ]
    },
    {
      "cell_type": "code",
      "execution_count": 51,
      "id": "76701a63",
      "metadata": {
        "colab": {
          "base_uri": "https://localhost:8080/"
        },
        "id": "76701a63",
        "outputId": "b7cf95ce-8a2e-4b04-f69a-335c4e038265"
      },
      "outputs": [
        {
          "output_type": "stream",
          "name": "stdout",
          "text": [
            "Total accuracy is 0.40501534860095845\n",
            "Percision score (tp / (tp + fp)) is 0.17412352378896734\n",
            "Recall score (tp / (tp + fn)) is 0.9728658799207511\n",
            "F1 score (2 * (precision * recall) / (precision + recall)) is 0.29537994795412637\n"
          ]
        }
      ],
      "source": [
        "preds = xg_cls.predict(X_test_ext)\n",
        "print_scores(y_test, preds)"
      ]
    },
    {
      "cell_type": "code",
      "execution_count": 52,
      "id": "d374add2",
      "metadata": {
        "colab": {
          "base_uri": "https://localhost:8080/",
          "height": 501
        },
        "id": "d374add2",
        "outputId": "c7ab2dda-026e-4bf1-927e-17fcd08bf989"
      },
      "outputs": [
        {
          "output_type": "display_data",
          "data": {
            "text/plain": [
              "<Figure size 1296x576 with 1 Axes>"
            ],
            "image/png": "[encoded data removed]"
          },
          "metadata": {}
        }
      ],
      "source": [
        "plot_training_chart(results, ['f1_err'], train=True)"
      ]
    },
    {
      "cell_type": "code",
      "execution_count": 53,
      "id": "0360a65a",
      "metadata": {
        "colab": {
          "base_uri": "https://localhost:8080/",
          "height": 571
        },
        "id": "0360a65a",
        "outputId": "97516b0d-a4f8-47eb-ae33-daac2cfd4726"
      },
      "outputs": [
        {
          "output_type": "stream",
          "name": "stdout",
          "text": [
            "True positive samples: 11294 (these are the FOG samples we classified FOG)\n",
            "False positive samples: 53568 (these are normal samples we classified as FOG)\n",
            "True negative samples: 25385 (These are the normal samples we classified as normal)\n",
            "False negative samples: 315 (Thses are the FOG samples we classified as normal)\n"
          ]
        },
        {
          "output_type": "display_data",
          "data": {
            "text/plain": [
              "<Figure size 1296x576 with 2 Axes>"
            ],
            "image/png": "[encoded data removed]"
          },
          "metadata": {}
        }
      ],
      "source": [
        "cf_matrix = confusion_matrix(y_test, preds)\n",
        "draw_confusion_matrix(cf_matrix)"
      ]
    },
    {
      "cell_type": "markdown",
      "id": "93ed3768",
      "metadata": {
        "id": "93ed3768"
      },
      "source": [
        "# 'Leave One Out' Cross Validation"
      ]
    },
    {
      "cell_type": "code",
      "execution_count": 54,
      "id": "7aa079e4",
      "metadata": {
        "colab": {
          "base_uri": "https://localhost:8080/"
        },
        "id": "7aa079e4",
        "outputId": "1147a526-d455-4c21-9e06-a7e0f51d25ec"
      },
      "outputs": [
        {
          "output_type": "execute_result",
          "data": {
            "text/plain": [
              "(array([0, 1]), array([951097,  99176]))"
            ]
          },
          "metadata": {},
          "execution_count": 54
        }
      ],
      "source": [
        "np.unique(y_train.values, return_counts=True)"
      ]
    },
    {
      "cell_type": "code",
      "execution_count": 55,
      "id": "c8b2b2bd",
      "metadata": {
        "colab": {
          "base_uri": "https://localhost:8080/"
        },
        "id": "c8b2b2bd",
        "outputId": "bf4a9a70-d739-440f-c0fa-6e7d018a78ee"
      },
      "outputs": [
        {
          "output_type": "stream",
          "name": "stdout",
          "text": [
            "Fitting 2 folds for each of 6 candidates, totalling 12 fits\n",
            "Best: 0.583420 using {'scale_pos_weight': 4}\n",
            "The results for test subject 1 are:\n",
            "Total accuracy is 0.9258249978626998\n",
            "Percision score (tp / (tp + fp)) is 0.22462012772517068\n",
            "Recall score (tp / (tp + fn)) is 0.22972972972972974\n",
            "F1 score (2 * (precision * recall) / (precision + recall)) is 0.2271461975281149\n",
            "Fitting 2 folds for each of 7 candidates, totalling 14 fits\n",
            "Best: 0.597115 using {'scale_pos_weight': 4}\n",
            "The results for test subject 2 are:\n",
            "Total accuracy is 0.8246988555795867\n",
            "Percision score (tp / (tp + fp)) is 0.3774430474293539\n",
            "Recall score (tp / (tp + fn)) is 0.7305143958559209\n",
            "F1 score (2 * (precision * recall) / (precision + recall)) is 0.49772232937989913\n",
            "Fitting 2 folds for each of 7 candidates, totalling 14 fits\n",
            "Best: 0.587067 using {'scale_pos_weight': 4}\n",
            "The results for test subject 3 are:\n",
            "Total accuracy is 0.8509346842857312\n",
            "Percision score (tp / (tp + fp)) is 0.0\n",
            "Recall score (tp / (tp + fn)) is 0.0\n",
            "F1 score (2 * (precision * recall) / (precision + recall)) is 0.0\n",
            "Fitting 2 folds for each of 6 candidates, totalling 12 fits\n",
            "Best: 0.592128 using {'scale_pos_weight': 4}\n",
            "The results for test subject 4 are:\n",
            "Total accuracy is 0.8929879383782493\n",
            "Percision score (tp / (tp + fp)) is 0.0\n",
            "Recall score (tp / (tp + fn)) is 1.0\n",
            "F1 score (2 * (precision * recall) / (precision + recall)) is 0.0\n",
            "Fitting 2 folds for each of 8 candidates, totalling 16 fits\n",
            "Best: 0.544821 using {'scale_pos_weight': 5}\n",
            "The results for test subject 5 are:\n",
            "Total accuracy is 0.7426109569368705\n",
            "Percision score (tp / (tp + fp)) is 0.4860613349368611\n",
            "Recall score (tp / (tp + fn)) is 0.7966255371151496\n",
            "F1 score (2 * (precision * recall) / (precision + recall)) is 0.6037465268441338\n",
            "Fitting 2 folds for each of 6 candidates, totalling 12 fits\n",
            "Best: 0.591271 using {'scale_pos_weight': 4}\n",
            "The results for test subject 6 are:\n",
            "Total accuracy is 0.5507775622205393\n",
            "Percision score (tp / (tp + fp)) is 0.12257521565327162\n",
            "Recall score (tp / (tp + fn)) is 0.784857874174862\n",
            "F1 score (2 * (precision * recall) / (precision + recall)) is 0.21203573963204922\n",
            "Fitting 2 folds for each of 6 candidates, totalling 12 fits\n",
            "Best: 0.597855 using {'scale_pos_weight': 4}\n",
            "The results for test subject 7 are:\n",
            "Total accuracy is 0.8600286405859915\n",
            "Percision score (tp / (tp + fp)) is 0.1941899810184039\n",
            "Recall score (tp / (tp + fn)) is 0.647495872317006\n",
            "F1 score (2 * (precision * recall) / (precision + recall)) is 0.29877468097263665\n",
            "Fitting 2 folds for each of 7 candidates, totalling 14 fits\n",
            "Best: 0.605588 using {'scale_pos_weight': 4}\n",
            "The results for test subject 8 are:\n",
            "Total accuracy is 0.745795905577606\n",
            "Percision score (tp / (tp + fp)) is 0.5660421545667448\n",
            "Recall score (tp / (tp + fn)) is 0.2346829789299932\n",
            "F1 score (2 * (precision * recall) / (precision + recall)) is 0.33180039810556666\n",
            "Fitting 2 folds for each of 7 candidates, totalling 14 fits\n",
            "Best: 0.578473 using {'scale_pos_weight': 4}\n",
            "The results for test subject 9 are:\n",
            "Total accuracy is 0.881120613388381\n",
            "Percision score (tp / (tp + fp)) is 0.6081081081081081\n",
            "Recall score (tp / (tp + fn)) is 0.6981948381321796\n",
            "F1 score (2 * (precision * recall) / (precision + recall)) is 0.6500451420237517\n",
            "Fitting 2 folds for each of 6 candidates, totalling 12 fits\n",
            "Best: 0.588193 using {'scale_pos_weight': 3}\n",
            "The results for test subject 10 are:\n",
            "Total accuracy is 1.0\n",
            "Percision score (tp / (tp + fp)) is 1.0\n",
            "Recall score (tp / (tp + fn)) is 1.0\n",
            "F1 score (2 * (precision * recall) / (precision + recall)) is 1.0\n"
          ]
        }
      ],
      "source": [
        "f1_scores = []\n",
        "recall_scores = []\n",
        "precision_scores = []\n",
        "accuracy_scores = []\n",
        "for test_subj in set(subject_df['id']):\n",
        "    train_subjs = set(subject_df['id']) - set([test_subj])\n",
        "    test_df = all_df_no_outliers[all_df_no_outliers['id']==test_subj]\n",
        "    train_df = all_df_no_outliers[all_df_no_outliers['id'].isin(train_subjs)]\n",
        "    \n",
        "    X_train = train_df.drop(['time', 'label','id'], axis=1)\n",
        "    y_train = train_df['label']\n",
        "    y_train -= 1\n",
        "    \n",
        "    X_test = test_df.drop(['time', 'label','id'], axis=1)\n",
        "    y_test = test_df['label']\n",
        "    y_test -= 1\n",
        "    \n",
        "    best_weight = find_best_weight(X_train, y_train)\n",
        "    \n",
        "    xg_cls = xgb.XGBClassifier(objective='binary:logistic', learning_rate = 0.1,\n",
        "               n_estimators = 100, nthread=8, scale_pos_weight=best_weight, booster='gbtree', tree_method='gpu_hist', gpu_id=0)\n",
        "    xg_cls.fit(X_train, y_train, eval_metric=f1_eval,eval_set=[(X_train, y_train), (X_test, y_test)],  verbose=False, early_stopping_rounds=10)\n",
        "    \n",
        "    preds = xg_cls.predict(X_test)\n",
        "    print(f'The results for test subject {test_subj} are:')\n",
        "    print_scores(y_test, preds)\n",
        "    f1_scores.append(f1_score(y_test, preds, zero_division=1))\n",
        "    recall_scores.append(recall_score(y_test, preds, zero_division=1))\n",
        "    precision_scores.append(precision_score(y_test, preds, zero_division=1))\n",
        "    accuracy_scores.append(accuracy_score(y_test, preds))"
      ]
    },
    {
      "cell_type": "code",
      "execution_count": 56,
      "id": "2c2fc629",
      "metadata": {
        "colab": {
          "base_uri": "https://localhost:8080/",
          "height": 523
        },
        "id": "2c2fc629",
        "outputId": "8ff9a942-6442-4ced-b4d0-7611399751ce"
      },
      "outputs": [
        {
          "output_type": "execute_result",
          "data": {
            "text/plain": [
              "<matplotlib.axes._subplots.AxesSubplot at 0x7fda040f0610>"
            ]
          },
          "metadata": {},
          "execution_count": 56
        },
        {
          "output_type": "display_data",
          "data": {
            "text/plain": [
              "<Figure size 1296x576 with 1 Axes>"
            ],
            "image/png": "[encoded data removed]"
          },
          "metadata": {}
        }
      ],
      "source": [
        "ids = list(range(1,11))\n",
        "df = pd.DataFrame({'id':ids, 'Accuracy':accuracy_scores, 'Recall':recall_scores, 'Precision':precision_scores, 'F1':f1_scores})\n",
        "\n",
        "df.plot(x=\"id\", y=[\"Accuracy\", 'Recall', 'Precision', 'F1'], kind=\"bar\")"
      ]
    },
    {
      "cell_type": "code",
      "execution_count": 57,
      "id": "5ea26adb",
      "metadata": {
        "colab": {
          "base_uri": "https://localhost:8080/"
        },
        "id": "5ea26adb",
        "outputId": "6d8cec1a-a6f1-4249-a835-dc9ed16e17b9"
      },
      "outputs": [
        {
          "output_type": "stream",
          "name": "stdout",
          "text": [
            "The average accuracy was 0.8274780154815655\n",
            "The average recall was 0.6122101226254841\n",
            "The average precision was 0.3579039969437914\n",
            "The average f1 score was 0.3821271014486152\n"
          ]
        }
      ],
      "source": [
        "print(f'The average accuracy was {sum(accuracy_scores)/len(accuracy_scores)}')      \n",
        "print(f'The average recall was {sum(recall_scores)/len(recall_scores)}')\n",
        "print(f'The average precision was {sum(precision_scores)/len(precision_scores)}')\n",
        "print(f'The average f1 score was {sum(f1_scores)/len(f1_scores)}')"
      ]
    }
  ],
  "metadata": {
    "kernelspec": {
      "display_name": "Python 3",
      "language": "python",
      "name": "python3"
    },
    "language_info": {
      "codemirror_mode": {
        "name": "ipython",
        "version": 3
      },
      "file_extension": ".py",
      "mimetype": "text/x-python",
      "name": "python",
      "nbconvert_exporter": "python",
      "pygments_lexer": "ipython3",
      "version": "3.8.8"
    },
    "colab": {
      "name": "mazilu freezing.ipynb",
      "provenance": [],
      "collapsed_sections": []
    },
    "accelerator": "GPU",
    "gpuClass": "standard"
  },
  "nbformat": 4,
  "nbformat_minor": 5
}